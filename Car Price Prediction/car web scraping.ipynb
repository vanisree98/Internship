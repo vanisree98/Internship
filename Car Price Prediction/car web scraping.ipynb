{
 "cells": [
  {
   "cell_type": "code",
   "execution_count": 1,
   "id": "68dccf63",
   "metadata": {},
   "outputs": [
    {
     "name": "stdout",
     "output_type": "stream",
     "text": [
      "Requirement already satisfied: selenium in c:\\users\\hi\\anaconda3\\lib\\site-packages (4.1.3)\n",
      "Requirement already satisfied: urllib3[secure,socks]~=1.26 in c:\\users\\hi\\anaconda3\\lib\\site-packages (from selenium) (1.26.4)\n",
      "Requirement already satisfied: trio~=0.17 in c:\\users\\hi\\anaconda3\\lib\\site-packages (from selenium) (0.20.0)\n",
      "Requirement already satisfied: trio-websocket~=0.9 in c:\\users\\hi\\anaconda3\\lib\\site-packages (from selenium) (0.9.2)\n",
      "Requirement already satisfied: async-generator>=1.9 in c:\\users\\hi\\anaconda3\\lib\\site-packages (from trio~=0.17->selenium) (1.10)\n",
      "Requirement already satisfied: idna in c:\\users\\hi\\anaconda3\\lib\\site-packages (from trio~=0.17->selenium) (2.10)\n",
      "Requirement already satisfied: sniffio in c:\\users\\hi\\anaconda3\\lib\\site-packages (from trio~=0.17->selenium) (1.2.0)\n",
      "Requirement already satisfied: cffi>=1.14 in c:\\users\\hi\\anaconda3\\lib\\site-packages (from trio~=0.17->selenium) (1.14.5)\n",
      "Requirement already satisfied: attrs>=19.2.0 in c:\\users\\hi\\anaconda3\\lib\\site-packages (from trio~=0.17->selenium) (20.3.0)\n",
      "Requirement already satisfied: sortedcontainers in c:\\users\\hi\\anaconda3\\lib\\site-packages (from trio~=0.17->selenium) (2.3.0)\n",
      "Requirement already satisfied: outcome in c:\\users\\hi\\anaconda3\\lib\\site-packages (from trio~=0.17->selenium) (1.1.0)\n",
      "Requirement already satisfied: pycparser in c:\\users\\hi\\anaconda3\\lib\\site-packages (from cffi>=1.14->trio~=0.17->selenium) (2.20)\n",
      "Requirement already satisfied: wsproto>=0.14 in c:\\users\\hi\\anaconda3\\lib\\site-packages (from trio-websocket~=0.9->selenium) (1.1.0)\n",
      "Requirement already satisfied: PySocks!=1.5.7,<2.0,>=1.5.6 in c:\\users\\hi\\anaconda3\\lib\\site-packages (from urllib3[secure,socks]~=1.26->selenium) (1.7.1)\n",
      "Requirement already satisfied: cryptography>=1.3.4 in c:\\users\\hi\\anaconda3\\lib\\site-packages (from urllib3[secure,socks]~=1.26->selenium) (3.4.7)\n",
      "Requirement already satisfied: certifi in c:\\users\\hi\\anaconda3\\lib\\site-packages (from urllib3[secure,socks]~=1.26->selenium) (2020.12.5)\n",
      "Requirement already satisfied: pyOpenSSL>=0.14 in c:\\users\\hi\\anaconda3\\lib\\site-packages (from urllib3[secure,socks]~=1.26->selenium) (20.0.1)\n",
      "Requirement already satisfied: six>=1.5.2 in c:\\users\\hi\\anaconda3\\lib\\site-packages (from pyOpenSSL>=0.14->urllib3[secure,socks]~=1.26->selenium) (1.15.0)\n",
      "Requirement already satisfied: h11<1,>=0.9.0 in c:\\users\\hi\\anaconda3\\lib\\site-packages (from wsproto>=0.14->trio-websocket~=0.9->selenium) (0.13.0)\n"
     ]
    }
   ],
   "source": [
    "#Let's install the selenium Library\n",
    "! pip install selenium"
   ]
  },
  {
   "cell_type": "code",
   "execution_count": 2,
   "id": "9fad5be1",
   "metadata": {},
   "outputs": [
    {
     "name": "stderr",
     "output_type": "stream",
     "text": [
      "'apt' is not recognized as an internal or external command,\n",
      "operable program or batch file.\n"
     ]
    }
   ],
   "source": [
    "! apt install chromium-chromedriver"
   ]
  },
  {
   "cell_type": "code",
   "execution_count": 3,
   "id": "7a6e139a",
   "metadata": {},
   "outputs": [],
   "source": [
    "import pandas as pd\n",
    "from selenium.common.exceptions import StaleElementReferenceException, NoSuchElementException, ElementNotVisibleException, TimeoutException\n",
    "import time\n",
    "from selenium import webdriver\n",
    "from selenium.webdriver.support.ui import WebDriverWait\n",
    "from selenium.webdriver.support import expected_conditions as EC\n",
    "from selenium.webdriver.common.by import By\n",
    "import selenium\n",
    "from bs4 import BeautifulSoup as sp\n",
    "from bs4 import BeautifulSoup"
   ]
  },
  {
   "cell_type": "code",
   "execution_count": 4,
   "id": "17f73ba6",
   "metadata": {},
   "outputs": [
    {
     "name": "stderr",
     "output_type": "stream",
     "text": [
      "'apt-get' is not recognized as an internal or external command,<ipython-input-4-f6df18450c8e>:8: DeprecationWarning: use options instead of chrome_options\n",
      "  driver =webdriver.Chrome('chromedriver',chrome_options=chrome_options)\n",
      "\n",
      "operable program or batch file.\n"
     ]
    }
   ],
   "source": [
    "!apt-get update \n",
    "\n",
    "from selenium import webdriver\n",
    "chrome_options = webdriver.ChromeOptions()\n",
    "chrome_options.add_argument('--headless')\n",
    "chrome_options.add_argument('--no-sandbox')\n",
    "chrome_options.add_argument('--disable-dev-shm-usage')\n",
    "driver =webdriver.Chrome('chromedriver',chrome_options=chrome_options)"
   ]
  },
  {
   "cell_type": "code",
   "execution_count": 5,
   "id": "bc01ad53",
   "metadata": {},
   "outputs": [
    {
     "name": "stderr",
     "output_type": "stream",
     "text": [
      "<ipython-input-5-3fc45332c468>:2: DeprecationWarning: use options instead of chrome_options\n",
      "  driver_H = webdriver.Chrome('chromedriver',chrome_options=chrome_options)\n"
     ]
    }
   ],
   "source": [
    "#Scraping cars located around Hyderabad city\n",
    "driver_H = webdriver.Chrome('chromedriver',chrome_options=chrome_options)\n",
    "driver_H.get('https://www.cars24.com/buy-used-cars-hyderabad/?itm_source=Cars24Website&itm_medium=sticky_header')\n",
    "ScrollNumber_H = 50\n",
    "for i in range(1,ScrollNumber_H):\n",
    "    driver_H.execute_script(\"window.scrollTo(1,50000000)\")\n",
    "    time.sleep(5)\n",
    "file_H = open('cars24_Hyderabad.html', 'w', encoding='utf-8')\n",
    "file_H.write(driver_H.page_source)\n",
    "file_H.close()\n",
    "driver_H.close()"
   ]
  },
  {
   "cell_type": "code",
   "execution_count": 6,
   "id": "41bd24ed",
   "metadata": {},
   "outputs": [],
   "source": [
    "data_H = open('cars24_Hyderabad.html','r')\n",
    "soup_H = BeautifulSoup(data_H,  'html.parser')"
   ]
  },
  {
   "cell_type": "code",
   "execution_count": 7,
   "id": "e8f8c34f",
   "metadata": {},
   "outputs": [
    {
     "name": "stderr",
     "output_type": "stream",
     "text": [
      "<ipython-input-7-2d4e01d2348c>:2: DeprecationWarning: use options instead of chrome_options\n",
      "  driver_D = webdriver.Chrome('chromedriver',chrome_options=chrome_options)\n"
     ]
    }
   ],
   "source": [
    "# Scraping cars located around Delhi\n",
    "driver_D = webdriver.Chrome('chromedriver',chrome_options=chrome_options)\n",
    "driver_D.get('https://www.cars24.com/buy-used-car?sort=P&storeCityId=2&pinId=110001')\n",
    "ScrollNumber_D = 50\n",
    "for i in range(1,ScrollNumber_D):\n",
    "    driver_D.execute_script(\"window.scrollTo(1,50000000)\")\n",
    "    time.sleep(5)\n",
    "file_D = open('cars24_Delhi.html', 'w', encoding='utf-8')\n",
    "file_D.write(driver_D.page_source)\n",
    "file_D.close()\n",
    "driver_D.close()"
   ]
  },
  {
   "cell_type": "code",
   "execution_count": 8,
   "id": "f1a0484a",
   "metadata": {},
   "outputs": [],
   "source": [
    "data_D = open('cars24_Delhi.html','r')\n",
    "soup_D = BeautifulSoup(data_D, 'html.parser')"
   ]
  },
  {
   "cell_type": "code",
   "execution_count": 9,
   "id": "e96532fc",
   "metadata": {},
   "outputs": [
    {
     "name": "stderr",
     "output_type": "stream",
     "text": [
      "<ipython-input-9-9a3b69ee921f>:2: DeprecationWarning: use options instead of chrome_options\n",
      "  driver_M = webdriver.Chrome('chromedriver',chrome_options=chrome_options)\n"
     ]
    }
   ],
   "source": [
    "# Scraping cars located around Mumbai\n",
    "driver_M = webdriver.Chrome('chromedriver',chrome_options=chrome_options)\n",
    "driver_M.get('https://www.cars24.com/buy-used-car?sort=P&storeCityId=2378&pinId=400001')\n",
    "ScrollNumber_M = 50\n",
    "for i in range(1,ScrollNumber_M):\n",
    "    driver_M.execute_script(\"window.scrollTo(1,50000000)\")\n",
    "    time.sleep(5)\n",
    "file_M = open('cars24_Mumbai.html', 'w', encoding='utf-8')\n",
    "file_M.write(driver_M.page_source)\n",
    "file_M.close()\n",
    "driver_M.close()"
   ]
  },
  {
   "cell_type": "code",
   "execution_count": 10,
   "id": "292fdc4c",
   "metadata": {},
   "outputs": [],
   "source": [
    "data_M = open('cars24_Mumbai.html','r')\n",
    "soup_M = BeautifulSoup(data_M, 'html.parser')"
   ]
  },
  {
   "cell_type": "code",
   "execution_count": 11,
   "id": "d68fdfa4",
   "metadata": {},
   "outputs": [
    {
     "name": "stderr",
     "output_type": "stream",
     "text": [
      "<ipython-input-11-97e92129322a>:2: DeprecationWarning: use options instead of chrome_options\n",
      "  driver_B = webdriver.Chrome('chromedriver',chrome_options=chrome_options)\n"
     ]
    }
   ],
   "source": [
    "# Scraping cars located around Bangalore\n",
    "driver_B = webdriver.Chrome('chromedriver',chrome_options=chrome_options)\n",
    "driver_B.get('https://www.cars24.com/buy-used-car?sort=P&storeCityId=4709&pinId=560001')\n",
    "ScrollNumber_B = 50\n",
    "for i in range(1,ScrollNumber_B):\n",
    "    driver_B.execute_script(\"window.scrollTo(1,50000000)\")\n",
    "    time.sleep(5)\n",
    "file_B = open('cars24_Bangalore.html', 'w', encoding='utf-8')\n",
    "file_B.write(driver_B.page_source)\n",
    "file_B.close()\n",
    "driver_B.close()"
   ]
  },
  {
   "cell_type": "code",
   "execution_count": 12,
   "id": "643fca4c",
   "metadata": {},
   "outputs": [],
   "source": [
    "data_B = open('cars24_Bangalore.html','r')\n",
    "soup_B = BeautifulSoup(data_B, 'html.parser')"
   ]
  },
  {
   "cell_type": "code",
   "execution_count": 13,
   "id": "a4cb40a4",
   "metadata": {},
   "outputs": [
    {
     "name": "stderr",
     "output_type": "stream",
     "text": [
      "<ipython-input-13-021002d72cf3>:2: DeprecationWarning: use options instead of chrome_options\n",
      "  driver_C = webdriver.Chrome('chromedriver',chrome_options=chrome_options)\n"
     ]
    }
   ],
   "source": [
    "# Scraping cars located around Chennai\n",
    "driver_C = webdriver.Chrome('chromedriver',chrome_options=chrome_options)\n",
    "driver_C.get('https://www.cars24.com/buy-used-car?sort=P&storeCityId=5732&pinId=600001')\n",
    "ScrollNumber_C = 50\n",
    "for i in range(1,ScrollNumber_C):\n",
    "    driver_C.execute_script(\"window.scrollTo(1,50000000)\")\n",
    "    time.sleep(5)\n",
    "file_C = open('cars24_Chennai.html', 'w', encoding='utf-8')\n",
    "file_C.write(driver_C.page_source)\n",
    "file_C.close()\n",
    "driver_C.close()"
   ]
  },
  {
   "cell_type": "code",
   "execution_count": 14,
   "id": "6172fa1e",
   "metadata": {},
   "outputs": [],
   "source": [
    "data_C = open('cars24_Chennai.html','r')\n",
    "soup_C = BeautifulSoup(data_C, 'html.parser')"
   ]
  },
  {
   "cell_type": "code",
   "execution_count": 15,
   "id": "d925996a",
   "metadata": {},
   "outputs": [
    {
     "name": "stderr",
     "output_type": "stream",
     "text": [
      "<ipython-input-15-eca455ad7542>:2: DeprecationWarning: use options instead of chrome_options\n",
      "  driver_N = webdriver.Chrome('chromedriver',chrome_options=chrome_options)\n"
     ]
    }
   ],
   "source": [
    "# Scraping cars located around Noida\n",
    "driver_N = webdriver.Chrome('chromedriver',chrome_options=chrome_options)\n",
    "driver_N.get('https://www.cars24.com/buy-used-car?sort=P&storeCityId=134&pinId=201301')\n",
    "ScrollNumber_N = 50\n",
    "for i in range(1,ScrollNumber_N):\n",
    "    driver_N.execute_script(\"window.scrollTo(1,50000000)\")\n",
    "    time.sleep(5)\n",
    "file_N = open('cars24_Noida.html', 'w', encoding='utf-8')\n",
    "file_N.write(driver_N.page_source)\n",
    "file_N.close()\n",
    "driver_N.close()"
   ]
  },
  {
   "cell_type": "code",
   "execution_count": 16,
   "id": "7c893ae7",
   "metadata": {},
   "outputs": [],
   "source": [
    "data_N = open('cars24_Noida.html','r')\n",
    "soup_N = BeautifulSoup(data_N, 'html.parser')"
   ]
  },
  {
   "cell_type": "code",
   "execution_count": 17,
   "id": "c787cf86",
   "metadata": {},
   "outputs": [
    {
     "name": "stderr",
     "output_type": "stream",
     "text": [
      "<ipython-input-17-4e6def55c5a9>:2: DeprecationWarning: use options instead of chrome_options\n",
      "  driver_P = webdriver.Chrome('chromedriver',chrome_options=chrome_options)\n"
     ]
    }
   ],
   "source": [
    "# Scraping cars located around Pune\n",
    "driver_P = webdriver.Chrome('chromedriver',chrome_options=chrome_options)\n",
    "driver_P.get('https://www.cars24.com/buy-used-car?sort=P&storeCityId=2423&pinId=411001')\n",
    "ScrollNumber_P = 50\n",
    "for i in range(1,ScrollNumber_P):\n",
    "    driver_P.execute_script(\"window.scrollTo(1,50000000)\")\n",
    "    time.sleep(5)\n",
    "file_P = open('cars24_Pune.html', 'w', encoding='utf-8')\n",
    "file_P.write(driver_P.page_source)\n",
    "file_P.close()\n",
    "driver_P.close()"
   ]
  },
  {
   "cell_type": "code",
   "execution_count": 18,
   "id": "6fddd24e",
   "metadata": {},
   "outputs": [],
   "source": [
    "data_P = open('cars24_Pune.html','r')\n",
    "soup_P = BeautifulSoup(data_P, 'html.parser')"
   ]
  },
  {
   "cell_type": "code",
   "execution_count": 19,
   "id": "d4d65a38",
   "metadata": {},
   "outputs": [
    {
     "name": "stderr",
     "output_type": "stream",
     "text": [
      "<ipython-input-19-93faefdeb0c0>:2: DeprecationWarning: use options instead of chrome_options\n",
      "  driver_K = webdriver.Chrome('chromedriver',chrome_options=chrome_options)\n"
     ]
    }
   ],
   "source": [
    "# Scraping cars located around Kolkata\n",
    "driver_K = webdriver.Chrome('chromedriver',chrome_options=chrome_options)\n",
    "driver_K.get('https://www.cars24.com/buy-used-car?sort=P&storeCityId=777&pinId=700001')\n",
    "ScrollNumber_K = 50\n",
    "for i in range(1,ScrollNumber_K):\n",
    "    driver_K.execute_script(\"window.scrollTo(1,50000000)\")\n",
    "    time.sleep(5)\n",
    "file_K = open('cars24_Kolkata.html', 'w', encoding='utf-8')\n",
    "file_K.write(driver_K.page_source)\n",
    "file_K.close()\n",
    "driver_K.close()"
   ]
  },
  {
   "cell_type": "code",
   "execution_count": 20,
   "id": "9d6b285a",
   "metadata": {},
   "outputs": [],
   "source": [
    "data_K = open('cars24_Kolkata.html','r')\n",
    "soup_K = BeautifulSoup(data_K, 'html.parser')"
   ]
  },
  {
   "cell_type": "code",
   "execution_count": 21,
   "id": "14defc5e",
   "metadata": {},
   "outputs": [
    {
     "name": "stderr",
     "output_type": "stream",
     "text": [
      "<ipython-input-21-654228e4de63>:2: DeprecationWarning: use options instead of chrome_options\n",
      "  driver_A = webdriver.Chrome('chromedriver',chrome_options=chrome_options)\n"
     ]
    }
   ],
   "source": [
    "# Scraping cars located around Ahmedabad\n",
    "driver_A = webdriver.Chrome('chromedriver',chrome_options=chrome_options)\n",
    "driver_A.get('https://www.cars24.com/buy-used-car?sort=P&storeCityId=1692&pinId=380001')\n",
    "ScrollNumber_A = 50\n",
    "for i in range(1,ScrollNumber_A):\n",
    "    driver_A.execute_script(\"window.scrollTo(1,50000000)\")\n",
    "    time.sleep(5)\n",
    "file_A = open('cars24_Ahmedabad.html', 'w', encoding='utf-8')\n",
    "file_A.write(driver_A.page_source)\n",
    "file_A.close()\n",
    "driver_A.close()"
   ]
  },
  {
   "cell_type": "code",
   "execution_count": 22,
   "id": "2aac174f",
   "metadata": {},
   "outputs": [],
   "source": [
    "data_A = open('cars24_Ahmedabad.html','r')\n",
    "soup_A = BeautifulSoup(data_A, 'html.parser')"
   ]
  },
  {
   "cell_type": "code",
   "execution_count": 23,
   "id": "cd2f9fb8",
   "metadata": {},
   "outputs": [
    {
     "name": "stderr",
     "output_type": "stream",
     "text": [
      "<ipython-input-23-e98038a4a3c5>:2: DeprecationWarning: use options instead of chrome_options\n",
      "  driver_G = webdriver.Chrome('chromedriver',chrome_options=chrome_options)\n"
     ]
    }
   ],
   "source": [
    "# Scraping cars located around Gurgaon\n",
    "driver_G = webdriver.Chrome('chromedriver',chrome_options=chrome_options)\n",
    "driver_G.get('https://www.cars24.com/buy-used-car?sort=P&storeCityId=5&pinId=122001')\n",
    "ScrollNumber_G = 50\n",
    "for i in range(1,ScrollNumber_G):\n",
    "    driver_G.execute_script(\"window.scrollTo(1,50000000)\")\n",
    "    time.sleep(5)\n",
    "file_G = open('cars24_Gurgaon.html', 'w', encoding='utf-8')\n",
    "file_G.write(driver_G.page_source)\n",
    "file_G.close()\n",
    "driver_G.close()"
   ]
  },
  {
   "cell_type": "code",
   "execution_count": 24,
   "id": "f3760fe1",
   "metadata": {},
   "outputs": [],
   "source": [
    "data_G = open('cars24_Gurgaon.html','r')\n",
    "soup_G = BeautifulSoup(data_G, 'html.parser')"
   ]
  },
  {
   "cell_type": "code",
   "execution_count": 25,
   "id": "f9f047d0",
   "metadata": {},
   "outputs": [
    {
     "name": "stderr",
     "output_type": "stream",
     "text": [
      "<ipython-input-25-b71306bcac5a>:2: DeprecationWarning: use options instead of chrome_options\n",
      "  driver_J = webdriver.Chrome('chromedriver',chrome_options=chrome_options)\n"
     ]
    }
   ],
   "source": [
    "# Scraping cars located around Jaipur\n",
    "driver_J = webdriver.Chrome('chromedriver',chrome_options=chrome_options)\n",
    "driver_J.get('https://www.cars24.com/buy-used-car?sort=P&storeCityId=1692&pinId=380001')\n",
    "ScrollNumber_J = 50\n",
    "for i in range(1,ScrollNumber_J):\n",
    "    driver_J.execute_script(\"window.scrollTo(1,50000000)\")\n",
    "    time.sleep(5)\n",
    "file_J = open('cars24_Jaipur.html', 'w', encoding='utf-8')\n",
    "file_J.write(driver_J.page_source)\n",
    "file_J.close()\n",
    "driver_J.close()"
   ]
  },
  {
   "cell_type": "code",
   "execution_count": 26,
   "id": "616854cd",
   "metadata": {},
   "outputs": [],
   "source": [
    "data_J = open('cars24_Jaipur.html','r')\n",
    "soup_J = BeautifulSoup(data_J, 'html.parser')"
   ]
  },
  {
   "cell_type": "code",
   "execution_count": 27,
   "id": "abc57a84",
   "metadata": {},
   "outputs": [
    {
     "name": "stderr",
     "output_type": "stream",
     "text": [
      "<ipython-input-27-a8cbacd58ae8>:2: DeprecationWarning: use options instead of chrome_options\n",
      "  driver_I = webdriver.Chrome('chromedriver',chrome_options=chrome_options)\n"
     ]
    }
   ],
   "source": [
    "# Scraping cars located around Chandigarh\n",
    "driver_I = webdriver.Chrome('chromedriver',chrome_options=chrome_options)\n",
    "driver_I.get('https://www.cars24.com/buy-used-car?sort=P&storeCityId=769&pinId=134101')\n",
    "ScrollNumber_I = 50\n",
    "for i in range(1,ScrollNumber_I):\n",
    "    driver_I.execute_script(\"window.scrollTo(1,50000000)\")\n",
    "    time.sleep(5)\n",
    "file_I = open('cars24_Chandigarh.html', 'w', encoding='utf-8')\n",
    "file_I.write(driver_I.page_source)\n",
    "file_I.close()\n",
    "driver_I.close()"
   ]
  },
  {
   "cell_type": "code",
   "execution_count": 28,
   "id": "0d787e4a",
   "metadata": {},
   "outputs": [],
   "source": [
    "data_I = open('cars24_Chandigarh.html','r')\n",
    "soup_I = BeautifulSoup(data_I, 'html.parser')"
   ]
  },
  {
   "cell_type": "code",
   "execution_count": null,
   "id": "23049628",
   "metadata": {},
   "outputs": [],
   "source": []
  },
  {
   "cell_type": "code",
   "execution_count": 29,
   "id": "d1844e1a",
   "metadata": {},
   "outputs": [],
   "source": [
    "name = []\n",
    "price = []\n",
    "emi = []\n",
    "features = []\n",
    "city = []\n",
    "soups = [soup_D, soup_M, soup_B, soup_C,soup_N,soup_P,soup_K,soup_A,soup_G,soup_J,soup_I]"
   ]
  },
  {
   "cell_type": "code",
   "execution_count": 30,
   "id": "841844bb",
   "metadata": {},
   "outputs": [],
   "source": [
    "main_div = 'col-4'\n",
    "sub_div = '_1l4fi'\n",
    "subsub_div = {'name':'_1jpRU','price':'_7udZZ','emi':'_2HFRN' , 'features':'bVR0c'}\n",
    "name_H,name_D, name_M, name_B, name_C,name_N,name_P,name_K,name_A,name_G,name_J,name_I = [],[],[],[],[],[],[],[],[],[],[],[]\n",
    "price_H,price_D, price_M, price_B, price_C,price_N,price_P,price_K,price_A,price_G,price_J,price_I =[],[],[],[],[],[],[],[],[],[],[],[]\n",
    "emi_H,emi_D, emi_M, emi_B, emi_C,emi_N,emi_P,emi_K,emi_A,emi_J,emi_G,emi_I = [],[],[],[],[],[],[],[],[],[],[],[]\n",
    "features_H,features_D, features_M, features_B, features_C,features_N,features_P,features_K,features_A,features_G,features_J,features_I = [],[],[],[],[],[],[],[],[],[],[],[]\n",
    "city_H,city_D, city_M, city_B, city_C,city_N,city_P,city_K,city_A,city_G,city_J,city_I = [],[],[],[],[],[],[],[],[],[],[],[]"
   ]
  },
  {
   "cell_type": "code",
   "execution_count": 31,
   "id": "d44df839",
   "metadata": {},
   "outputs": [],
   "source": [
    "# Hyderabad\n",
    "for x in soup_H.find_all('div',{'class':main_div}):\n",
    "        for i in x.find_all('div',{'class':sub_div}):\n",
    "    \n",
    "            try:\n",
    "                a = i.find('div',{'class':subsub_div['name']})\n",
    "                name_H.append(a.text)\n",
    "            except:\n",
    "                name_H.append(np.nan)\n",
    "            \n",
    "            try:\n",
    "                a = i.find('div',{'class':subsub_div['price']})\n",
    "                price_H.append(a.text)\n",
    "            except:\n",
    "                price_H.append(np.nan)\n",
    "        \n",
    "    \n",
    "            try:\n",
    "                a = i.find('div',{'class':subsub_div['emi']})\n",
    "                emi_H.append(a.text)\n",
    "            except:\n",
    "                emi_H.append(np.nan)\n",
    "        \n",
    "            try:\n",
    "                a = i.find('ul',{'class':subsub_div['features']})\n",
    "                features_H.append(\"\\n\".join([subsub_div.text for subsub_div in a]))\n",
    "            except:\n",
    "                features_H.append(np.nan)\n",
    "            try:\n",
    "                city_H.append('Hyderabad')\n",
    "            except:\n",
    "                city_H.append(np.nan)"
   ]
  },
  {
   "cell_type": "code",
   "execution_count": 32,
   "id": "30e2b247",
   "metadata": {},
   "outputs": [],
   "source": [
    "# Delhi          \n",
    "for x in soup_D.find_all('div',{'class':main_div}):\n",
    "        for i in x.find_all('div',{'class':sub_div}):\n",
    "    \n",
    "            try:\n",
    "                a = i.find('div',{'class':subsub_div['name']})\n",
    "                name_D.append(a.text)\n",
    "            except:\n",
    "                name_D.append(np.nan)\n",
    "            \n",
    "            try:\n",
    "                a = i.find('div',{'class':subsub_div['price']})\n",
    "                price_D.append(a.text)\n",
    "            except:\n",
    "                price_D.append(np.nan)\n",
    "        \n",
    "    \n",
    "            try:\n",
    "                a = i.find('div',{'class':subsub_div['emi']})\n",
    "                emi_D.append(a.text)\n",
    "            except:\n",
    "                emi_D.append(np.nan)\n",
    "        \n",
    "            try:\n",
    "                a = i.find('ul',{'class':subsub_div['features']})\n",
    "                features_D.append(\"\\n\".join([subsub_div.text for subsub_div in a]))\n",
    "            except:\n",
    "                features_D.append(np.nan)\n",
    "            try:\n",
    "                city_D.append('Delhi')\n",
    "            except:\n",
    "                city_D.append(np.nan)"
   ]
  },
  {
   "cell_type": "code",
   "execution_count": 33,
   "id": "93329675",
   "metadata": {},
   "outputs": [],
   "source": [
    "# Mumbai         \n",
    "for x in soup_M.find_all('div',{'class':main_div}):\n",
    "        for i in x.find_all('div',{'class':sub_div}):\n",
    "    \n",
    "            try:\n",
    "                a = i.find('div',{'class':subsub_div['name']})\n",
    "                name_M.append(a.text)\n",
    "            except:\n",
    "                name_M.append(np.nan)\n",
    "            \n",
    "            try:\n",
    "                a = i.find('div',{'class':subsub_div['price']})\n",
    "                price_M.append(a.text)\n",
    "            except:\n",
    "                price_M.append(np.nan)\n",
    "        \n",
    "    \n",
    "            try:\n",
    "                a = i.find('div',{'class':subsub_div['emi']})\n",
    "                emi_M.append(a.text)\n",
    "            except:\n",
    "                emi_M.append(np.nan)\n",
    "        \n",
    "            try:\n",
    "                a = i.find('ul',{'class':subsub_div['features']})\n",
    "                features_M.append(\"\\n\".join([subsub_div.text for subsub_div in a]))\n",
    "            except:\n",
    "                features_M.append(np.nan)\n",
    "            try:\n",
    "                city_M.append('Mumbai')\n",
    "            except:\n",
    "                city_M.append(np.nan)"
   ]
  },
  {
   "cell_type": "code",
   "execution_count": 34,
   "id": "dcada550",
   "metadata": {},
   "outputs": [],
   "source": [
    "# Bangalore         \n",
    "for x in soup_B.find_all('div',{'class':main_div}):\n",
    "        for i in x.find_all('div',{'class':sub_div}):\n",
    "    \n",
    "            try:\n",
    "                a = i.find('div',{'class':subsub_div['name']})\n",
    "                name_B.append(a.text)\n",
    "            except:\n",
    "                name_B.append(np.nan)\n",
    "            \n",
    "            try:\n",
    "                a = i.find('div',{'class':subsub_div['price']})\n",
    "                price_B.append(a.text)\n",
    "            except:\n",
    "                price_B.append(np.nan)\n",
    "        \n",
    "    \n",
    "            try:\n",
    "                a = i.find('div',{'class':subsub_div['emi']})\n",
    "                emi_B.append(a.text)\n",
    "            except:\n",
    "                emi_B.append(np.nan)\n",
    "        \n",
    "            try:\n",
    "                a = i.find('ul',{'class':subsub_div['features']})\n",
    "                features_B.append(\"\\n\".join([subsub_div.text for subsub_div in a]))\n",
    "            except:\n",
    "                features_B.append(np.nan)\n",
    "            try:\n",
    "                city_B.append('Bangalore')\n",
    "            except:\n",
    "                city_B.append(np.nan)"
   ]
  },
  {
   "cell_type": "code",
   "execution_count": 35,
   "id": "d76fc3f5",
   "metadata": {},
   "outputs": [],
   "source": [
    "# Chennai          \n",
    "for x in soup_C.find_all('div',{'class':main_div}):\n",
    "        for i in x.find_all('div',{'class':sub_div}):\n",
    "    \n",
    "            try:\n",
    "                a = i.find('div',{'class':subsub_div['name']})\n",
    "                name_C.append(a.text)\n",
    "            except:\n",
    "                name_C.append(np.nan)\n",
    "            \n",
    "            try:\n",
    "                a = i.find('div',{'class':subsub_div['price']})\n",
    "                price_C.append(a.text)\n",
    "            except:\n",
    "                price_C.append(np.nan)\n",
    "        \n",
    "    \n",
    "            try:\n",
    "                a = i.find('div',{'class':subsub_div['emi']})\n",
    "                emi_C.append(a.text)\n",
    "            except:\n",
    "                emi_C.append(np.nan)\n",
    "        \n",
    "            try:\n",
    "                a = i.find('ul',{'class':subsub_div['features']})\n",
    "                features_C.append(\"\\n\".join([subsub_div.text for subsub_div in a]))\n",
    "            except:\n",
    "                features_C.append(np.nan)\n",
    "            try:\n",
    "                city_C.append('Chennai')\n",
    "            except:\n",
    "                city_C.append(np.nan)"
   ]
  },
  {
   "cell_type": "code",
   "execution_count": 36,
   "id": "cada12ad",
   "metadata": {},
   "outputs": [],
   "source": [
    "# Noida          \n",
    "for x in soup_N.find_all('div',{'class':main_div}):\n",
    "        for i in x.find_all('div',{'class':sub_div}):\n",
    "    \n",
    "            try:\n",
    "                a = i.find('div',{'class':subsub_div['name']})\n",
    "                name_N.append(a.text)\n",
    "            except:\n",
    "                name_N.append(np.nan)\n",
    "            \n",
    "            try:\n",
    "                a = i.find('div',{'class':subsub_div['price']})\n",
    "                price_N.append(a.text)\n",
    "            except:\n",
    "                price_N.append(np.nan)\n",
    "        \n",
    "    \n",
    "            try:\n",
    "                a = i.find('div',{'class':subsub_div['emi']})\n",
    "                emi_N.append(a.text)\n",
    "            except:\n",
    "                emi_N.append(np.nan)\n",
    "        \n",
    "            try:\n",
    "                a = i.find('ul',{'class':subsub_div['features']})\n",
    "                features_N.append(\"\\n\".join([subsub_div.text for subsub_div in a]))\n",
    "            except:\n",
    "                features_N.append(np.nan)\n",
    "            try:\n",
    "                city_N.append('Noida')\n",
    "            except:\n",
    "                city_N.append(np.nan)"
   ]
  },
  {
   "cell_type": "code",
   "execution_count": 37,
   "id": "c1bbbb4c",
   "metadata": {},
   "outputs": [],
   "source": [
    "# Pune          \n",
    "for x in soup_P.find_all('div',{'class':main_div}):\n",
    "        for i in x.find_all('div',{'class':sub_div}):\n",
    "    \n",
    "            try:\n",
    "                a = i.find('div',{'class':subsub_div['name']})\n",
    "                name_P.append(a.text)\n",
    "            except:\n",
    "                name_P.append(np.nan)\n",
    "            \n",
    "            try:\n",
    "                a = i.find('div',{'class':subsub_div['price']})\n",
    "                price_P.append(a.text)\n",
    "            except:\n",
    "                price_P.append(np.nan)\n",
    "        \n",
    "    \n",
    "            try:\n",
    "                a = i.find('div',{'class':subsub_div['emi']})\n",
    "                emi_P.append(a.text)\n",
    "            except:\n",
    "                emi_P.append(np.nan)\n",
    "        \n",
    "            try:\n",
    "                a = i.find('ul',{'class':subsub_div['features']})\n",
    "                features_P.append(\"\\n\".join([subsub_div.text for subsub_div in a]))\n",
    "            except:\n",
    "                features_P.append(np.nan)\n",
    "            try:\n",
    "                city_P.append('Pune')\n",
    "            except:\n",
    "                city_P.append(np.nan)"
   ]
  },
  {
   "cell_type": "code",
   "execution_count": 38,
   "id": "a5a83ff3",
   "metadata": {},
   "outputs": [],
   "source": [
    "# Kolkata          \n",
    "for x in soup_K.find_all('div',{'class':main_div}):\n",
    "        for i in x.find_all('div',{'class':sub_div}):\n",
    "    \n",
    "            try:\n",
    "                a = i.find('div',{'class':subsub_div['name']})\n",
    "                name_K.append(a.text)\n",
    "            except:\n",
    "                name_K.append(np.nan)\n",
    "            \n",
    "            try:\n",
    "                a = i.find('div',{'class':subsub_div['price']})\n",
    "                price_K.append(a.text)\n",
    "            except:\n",
    "                price_K.append(np.nan)\n",
    "        \n",
    "    \n",
    "            try:\n",
    "                a = i.find('div',{'class':subsub_div['emi']})\n",
    "                emi_K.append(a.text)\n",
    "            except:\n",
    "                emi_K.append(np.nan)\n",
    "        \n",
    "            try:\n",
    "                a = i.find('ul',{'class':subsub_div['features']})\n",
    "                features_K.append(\"\\n\".join([subsub_div.text for subsub_div in a]))\n",
    "            except:\n",
    "                features_K.append(np.nan)\n",
    "            try:\n",
    "                city_K.append('Kolkata')\n",
    "            except:\n",
    "                city_K.append(np.nan)"
   ]
  },
  {
   "cell_type": "code",
   "execution_count": 39,
   "id": "fb8d1a04",
   "metadata": {},
   "outputs": [],
   "source": [
    "# Ahmedabad         \n",
    "for x in soup_A.find_all('div',{'class':main_div}):\n",
    "        for i in x.find_all('div',{'class':sub_div}):\n",
    "    \n",
    "            try:\n",
    "                a = i.find('div',{'class':subsub_div['name']})\n",
    "                name_A.append(a.text)\n",
    "            except:\n",
    "                name_A.append(np.nan)\n",
    "            \n",
    "            try:\n",
    "                a = i.find('div',{'class':subsub_div['price']})\n",
    "                price_A.append(a.text)\n",
    "            except:\n",
    "                price_A.append(np.nan)\n",
    "        \n",
    "    \n",
    "            try:\n",
    "                a = i.find('div',{'class':subsub_div['emi']})\n",
    "                emi_A.append(a.text)\n",
    "            except:\n",
    "                emi_A.append(np.nan)\n",
    "        \n",
    "            try:\n",
    "                a = i.find('ul',{'class':subsub_div['features']})\n",
    "                features_A.append(\"\\n\".join([subsub_div.text for subsub_div in a]))\n",
    "            except:\n",
    "                features_A.append(np.nan)\n",
    "            try:\n",
    "                city_A.append('Ahmedabad')\n",
    "            except:\n",
    "                city_A.append(np.nan)"
   ]
  },
  {
   "cell_type": "code",
   "execution_count": 40,
   "id": "324ea148",
   "metadata": {},
   "outputs": [],
   "source": [
    "#Gurgaon       \n",
    "for x in soup_G.find_all('div',{'class':main_div}):\n",
    "        for i in x.find_all('div',{'class':sub_div}):\n",
    "    \n",
    "            try:\n",
    "                a = i.find('div',{'class':subsub_div['name']})\n",
    "                name_G.append(a.text)\n",
    "            except:\n",
    "                name_G.append(np.nan)\n",
    "            \n",
    "            try:\n",
    "                a = i.find('div',{'class':subsub_div['price']})\n",
    "                price_G.append(a.text)\n",
    "            except:\n",
    "                price_G.append(np.nan)\n",
    "        \n",
    "    \n",
    "            try:\n",
    "                a = i.find('div',{'class':subsub_div['emi']})\n",
    "                emi_G.append(a.text)\n",
    "            except:\n",
    "                emi_G.append(np.nan)\n",
    "        \n",
    "            try:\n",
    "                a = i.find('ul',{'class':subsub_div['features']})\n",
    "                features_G.append(\"\\n\".join([subsub_div.text for subsub_div in a]))\n",
    "            except:\n",
    "                features_G.append(np.nan)\n",
    "            try:\n",
    "                city_G.append('Gurgaon')\n",
    "            except:\n",
    "                city_G.append(np.nan)"
   ]
  },
  {
   "cell_type": "code",
   "execution_count": 41,
   "id": "fc51bc2d",
   "metadata": {},
   "outputs": [],
   "source": [
    "# Jaipur        \n",
    "for x in soup_J.find_all('div',{'class':main_div}):\n",
    "        for i in x.find_all('div',{'class':sub_div}):\n",
    "    \n",
    "            try:\n",
    "                a = i.find('div',{'class':subsub_div['name']})\n",
    "                name_J.append(a.text)\n",
    "            except:\n",
    "                name_J.append(np.nan)\n",
    "            \n",
    "            try:\n",
    "                a = i.find('div',{'class':subsub_div['price']})\n",
    "                price_J.append(a.text)\n",
    "            except:\n",
    "                price_J.append(np.nan)\n",
    "        \n",
    "    \n",
    "            try:\n",
    "                a = i.find('div',{'class':subsub_div['emi']})\n",
    "                emi_J.append(a.text)\n",
    "            except:\n",
    "                emi_A.append(np.nan)\n",
    "        \n",
    "            try:\n",
    "                a = i.find('ul',{'class':subsub_div['features']})\n",
    "                features_J.append(\"\\n\".join([subsub_div.text for subsub_div in a]))\n",
    "            except:\n",
    "                features_J.append(np.nan)\n",
    "            try:\n",
    "                city_J.append('Ahmedabad')\n",
    "            except:\n",
    "                city_J.append(np.nan)"
   ]
  },
  {
   "cell_type": "code",
   "execution_count": 42,
   "id": "648b6dd3",
   "metadata": {},
   "outputs": [],
   "source": [
    "# Chandigarh        \n",
    "for x in soup_I.find_all('div',{'class':main_div}):\n",
    "        for i in x.find_all('div',{'class':sub_div}):\n",
    "    \n",
    "            try:\n",
    "                a = i.find('div',{'class':subsub_div['name']})\n",
    "                name_I.append(a.text)\n",
    "            except:\n",
    "                name_I.append(np.nan)\n",
    "            \n",
    "            try:\n",
    "                a = i.find('div',{'class':subsub_div['price']})\n",
    "                price_I.append(a.text)\n",
    "            except:\n",
    "                price_I.append(np.nan)\n",
    "        \n",
    "    \n",
    "            try:\n",
    "                a = i.find('div',{'class':subsub_div['emi']})\n",
    "                emi_I.append(a.text)\n",
    "            except:\n",
    "                emi_I.append(np.nan)\n",
    "        \n",
    "            try:\n",
    "                a = i.find('ul',{'class':subsub_div['features']})\n",
    "                features_I.append(\"\\n\".join([subsub_div.text for subsub_div in a]))\n",
    "            except:\n",
    "                features_I.append(np.nan)\n",
    "            try:\n",
    "                city_I.append('Chandigarh')\n",
    "            except:\n",
    "                city_I.append(np.nan)"
   ]
  },
  {
   "cell_type": "code",
   "execution_count": 43,
   "id": "f4991893",
   "metadata": {},
   "outputs": [],
   "source": [
    "name = name + name_H + name_D + name_M + name_B + name_C + name_N + name_P + name_K + name_A +name_G +name_J + name_I\n",
    "price = price + price_H + price_D + price_M + price_B + price_C + price_N + price_P + price_K + price_A +price_G +price_J + price_I\n",
    "emi = emi + emi_H + emi_D + emi_M + emi_B + emi_C+emi_N+ emi_P + emi_K + emi_A + emi_G +emi_J +emi_I\n",
    "features = features + features_H + features_D + features_M + features_B + features_C+ features_N + features_P + features_K + features_A +features_G + features_J +features_I\n",
    "city = city + city_H + city_D + city_M + city_B + city_C +city_N + city_P + city_K + city_A +city_G +city_J +city_I"
   ]
  },
  {
   "cell_type": "code",
   "execution_count": 44,
   "id": "3846fa82",
   "metadata": {},
   "outputs": [
    {
     "name": "stdout",
     "output_type": "stream",
     "text": [
      "5521\n",
      "5521\n",
      "5521\n",
      "5521\n",
      "5521\n"
     ]
    }
   ],
   "source": [
    "print(len(name))\n",
    "print(len(price))\n",
    "print(len(emi))\n",
    "print(len(features))\n",
    "print(len(city))"
   ]
  },
  {
   "cell_type": "code",
   "execution_count": 45,
   "id": "72bc6dbe",
   "metadata": {},
   "outputs": [],
   "source": [
    "df = pd.DataFrame({\"Car Name\":name, 'Price':price, \n",
    "                  \"EMI\":emi, \"Features\":features,\"Location\":city})"
   ]
  },
  {
   "cell_type": "code",
   "execution_count": 46,
   "id": "88c651a7",
   "metadata": {},
   "outputs": [
    {
     "data": {
      "text/html": [
       "<div>\n",
       "<style scoped>\n",
       "    .dataframe tbody tr th:only-of-type {\n",
       "        vertical-align: middle;\n",
       "    }\n",
       "\n",
       "    .dataframe tbody tr th {\n",
       "        vertical-align: top;\n",
       "    }\n",
       "\n",
       "    .dataframe thead th {\n",
       "        text-align: right;\n",
       "    }\n",
       "</style>\n",
       "<table border=\"1\" class=\"dataframe\">\n",
       "  <thead>\n",
       "    <tr style=\"text-align: right;\">\n",
       "      <th></th>\n",
       "      <th>Car Name</th>\n",
       "      <th>Price</th>\n",
       "      <th>EMI</th>\n",
       "      <th>Features</th>\n",
       "      <th>Location</th>\n",
       "    </tr>\n",
       "  </thead>\n",
       "  <tbody>\n",
       "    <tr>\n",
       "      <th>0</th>\n",
       "      <td>2009 Hyundai AccentEXECUTIVE Manual</td>\n",
       "      <td>â‚¹2,52,099</td>\n",
       "      <td>â‚¹5,608/month</td>\n",
       "      <td>83,525 km\\n2nd Owner\\nPetrol</td>\n",
       "      <td>Hyderabad</td>\n",
       "    </tr>\n",
       "    <tr>\n",
       "      <th>1</th>\n",
       "      <td>2021 Maruti CelerioZXI Manual</td>\n",
       "      <td>â‚¹7,17,699</td>\n",
       "      <td>â‚¹15,965/month</td>\n",
       "      <td>2,072 km\\n1st Owner\\nPetrol</td>\n",
       "      <td>Hyderabad</td>\n",
       "    </tr>\n",
       "    <tr>\n",
       "      <th>2</th>\n",
       "      <td>2009 Hyundai i10SPORTZ 1.2 Manual</td>\n",
       "      <td>â‚¹2,84,199</td>\n",
       "      <td>â‚¹6,322/month</td>\n",
       "      <td>82,752 km\\n1st Owner\\nPetrol</td>\n",
       "      <td>Hyderabad</td>\n",
       "    </tr>\n",
       "    <tr>\n",
       "      <th>3</th>\n",
       "      <td>2016 Hyundai Creta1.6 SX CRDI Manual</td>\n",
       "      <td>â‚¹10,99,699</td>\n",
       "      <td>â‚¹24,462/month</td>\n",
       "      <td>44,442 km\\n1st Owner\\nDiesel</td>\n",
       "      <td>Hyderabad</td>\n",
       "    </tr>\n",
       "    <tr>\n",
       "      <th>4</th>\n",
       "      <td>2013 Maruti SwiftVXI Manual</td>\n",
       "      <td>â‚¹4,33,499</td>\n",
       "      <td>â‚¹9,643/month</td>\n",
       "      <td>61,650 km\\n1st Owner\\nPetrol</td>\n",
       "      <td>Hyderabad</td>\n",
       "    </tr>\n",
       "  </tbody>\n",
       "</table>\n",
       "</div>"
      ],
      "text/plain": [
       "                               Car Name         Price              EMI  \\\n",
       "0   2009 Hyundai AccentEXECUTIVE Manual   â‚¹2,52,099   â‚¹5,608/month   \n",
       "1         2021 Maruti CelerioZXI Manual   â‚¹7,17,699  â‚¹15,965/month   \n",
       "2     2009 Hyundai i10SPORTZ 1.2 Manual   â‚¹2,84,199   â‚¹6,322/month   \n",
       "3  2016 Hyundai Creta1.6 SX CRDI Manual  â‚¹10,99,699  â‚¹24,462/month   \n",
       "4           2013 Maruti SwiftVXI Manual   â‚¹4,33,499   â‚¹9,643/month   \n",
       "\n",
       "                       Features   Location  \n",
       "0  83,525 km\\n2nd Owner\\nPetrol  Hyderabad  \n",
       "1   2,072 km\\n1st Owner\\nPetrol  Hyderabad  \n",
       "2  82,752 km\\n1st Owner\\nPetrol  Hyderabad  \n",
       "3  44,442 km\\n1st Owner\\nDiesel  Hyderabad  \n",
       "4  61,650 km\\n1st Owner\\nPetrol  Hyderabad  "
      ]
     },
     "execution_count": 46,
     "metadata": {},
     "output_type": "execute_result"
    }
   ],
   "source": [
    "df.head()"
   ]
  },
  {
   "cell_type": "code",
   "execution_count": 47,
   "id": "58148899",
   "metadata": {},
   "outputs": [],
   "source": [
    "import matplotlib.pyplot as plt\n",
    "#%matplotlib inline\n",
    "\n",
    "from selenium import webdriver\n",
    "from mpl_toolkits.mplot3d import Axes3D"
   ]
  },
  {
   "cell_type": "code",
   "execution_count": 48,
   "id": "7eb19670",
   "metadata": {},
   "outputs": [],
   "source": [
    "import re\n",
    "import requests\n"
   ]
  },
  {
   "cell_type": "code",
   "execution_count": 49,
   "id": "67551d95",
   "metadata": {},
   "outputs": [],
   "source": [
    "regex = r'^\\d+\\s(\\w+)\\s'\n",
    "df['Car Brand'] = df['Car Name'].apply(lambda x: re.compile(regex).findall(x)[0])\n",
    "\n",
    "regex = r'^\\d+\\s\\w+\\s(.*?)\\s\\w+$'\n",
    "df['Model'] = df['Car Name'].apply(lambda x: re.compile(regex).findall(x))\n",
    "\n",
    "regex = r'â‚¹(.*)'\n",
    "df['Price'] = df['Price'].apply(lambda x: re.compile(regex).findall(x)[0])\n",
    "\n",
    "regex = r'^\\d+'\n",
    "df['Model Year'] = df['Car Name'].apply(lambda x: re.compile(regex).findall(x)[0])\n",
    "\n",
    "regex = r'\\w+$'\n",
    "df['Gear'] = df['Car Name'].apply(lambda x: re.compile(regex).findall(x))\n",
    "\n",
    "regex = r'^(.*)\\skm'\n",
    "df['Driven (Kms)'] = df['Features'].apply(lambda x: re.compile(regex).findall(x)[0])\n",
    "\n",
    "regex = r'\\n(\\d+)\\w+\\sOwner\\n'\n",
    "df['Ownership'] = df['Features'].apply(lambda x: re.compile(regex).findall(x)[0])\n",
    "\n",
    "regex = r'\\n(.*)$'\n",
    "df['Fuel'] = df['Features'].apply(lambda x: re.compile(regex).findall(x)[0])\n",
    "\n",
    "regex = r'â‚¹(.*)'\n",
    "df['EMI (monthly)'] = df['EMI'].apply(lambda x: re.compile(regex).findall(x)[0])"
   ]
  },
  {
   "cell_type": "code",
   "execution_count": 50,
   "id": "80a3824f",
   "metadata": {},
   "outputs": [],
   "source": [
    "df['EMI (monthly)'] = df['EMI'].apply(lambda x: x.replace('/month',''))\n",
    "df['EMI (monthly)'] = df['EMI (monthly)'].apply(lambda x: x.replace(',',''))\n",
    "df['EMI (monthly)'] = df['EMI (monthly)'].apply(lambda x: x.replace('₹',''))"
   ]
  },
  {
   "cell_type": "code",
   "execution_count": 51,
   "id": "fb2b811a",
   "metadata": {},
   "outputs": [],
   "source": [
    "df['Price'] = df['Price'].apply(lambda x: x.replace('₹',''))\n",
    "df['Price'] = df['Price'].apply(lambda x: x.replace(',',''))"
   ]
  },
  {
   "cell_type": "code",
   "execution_count": 52,
   "id": "7b37d452",
   "metadata": {},
   "outputs": [
    {
     "data": {
      "text/html": [
       "<div>\n",
       "<style scoped>\n",
       "    .dataframe tbody tr th:only-of-type {\n",
       "        vertical-align: middle;\n",
       "    }\n",
       "\n",
       "    .dataframe tbody tr th {\n",
       "        vertical-align: top;\n",
       "    }\n",
       "\n",
       "    .dataframe thead th {\n",
       "        text-align: right;\n",
       "    }\n",
       "</style>\n",
       "<table border=\"1\" class=\"dataframe\">\n",
       "  <thead>\n",
       "    <tr style=\"text-align: right;\">\n",
       "      <th></th>\n",
       "      <th>Car Name</th>\n",
       "      <th>Price</th>\n",
       "      <th>EMI</th>\n",
       "      <th>Features</th>\n",
       "      <th>Location</th>\n",
       "      <th>Car Brand</th>\n",
       "      <th>Model</th>\n",
       "      <th>Model Year</th>\n",
       "      <th>Gear</th>\n",
       "      <th>Driven (Kms)</th>\n",
       "      <th>Ownership</th>\n",
       "      <th>Fuel</th>\n",
       "      <th>EMI (monthly)</th>\n",
       "    </tr>\n",
       "  </thead>\n",
       "  <tbody>\n",
       "    <tr>\n",
       "      <th>0</th>\n",
       "      <td>2009 Hyundai AccentEXECUTIVE Manual</td>\n",
       "      <td>252099</td>\n",
       "      <td>â‚¹5,608/month</td>\n",
       "      <td>83,525 km\\n2nd Owner\\nPetrol</td>\n",
       "      <td>Hyderabad</td>\n",
       "      <td>Hyundai</td>\n",
       "      <td>[AccentEXECUTIVE]</td>\n",
       "      <td>2009</td>\n",
       "      <td>[Manual]</td>\n",
       "      <td>83,525</td>\n",
       "      <td>2</td>\n",
       "      <td>Petrol</td>\n",
       "      <td>â‚¹5608</td>\n",
       "    </tr>\n",
       "    <tr>\n",
       "      <th>1</th>\n",
       "      <td>2021 Maruti CelerioZXI Manual</td>\n",
       "      <td>717699</td>\n",
       "      <td>â‚¹15,965/month</td>\n",
       "      <td>2,072 km\\n1st Owner\\nPetrol</td>\n",
       "      <td>Hyderabad</td>\n",
       "      <td>Maruti</td>\n",
       "      <td>[CelerioZXI]</td>\n",
       "      <td>2021</td>\n",
       "      <td>[Manual]</td>\n",
       "      <td>2,072</td>\n",
       "      <td>1</td>\n",
       "      <td>Petrol</td>\n",
       "      <td>â‚¹15965</td>\n",
       "    </tr>\n",
       "    <tr>\n",
       "      <th>2</th>\n",
       "      <td>2009 Hyundai i10SPORTZ 1.2 Manual</td>\n",
       "      <td>284199</td>\n",
       "      <td>â‚¹6,322/month</td>\n",
       "      <td>82,752 km\\n1st Owner\\nPetrol</td>\n",
       "      <td>Hyderabad</td>\n",
       "      <td>Hyundai</td>\n",
       "      <td>[i10SPORTZ 1.2]</td>\n",
       "      <td>2009</td>\n",
       "      <td>[Manual]</td>\n",
       "      <td>82,752</td>\n",
       "      <td>1</td>\n",
       "      <td>Petrol</td>\n",
       "      <td>â‚¹6322</td>\n",
       "    </tr>\n",
       "    <tr>\n",
       "      <th>3</th>\n",
       "      <td>2016 Hyundai Creta1.6 SX CRDI Manual</td>\n",
       "      <td>1099699</td>\n",
       "      <td>â‚¹24,462/month</td>\n",
       "      <td>44,442 km\\n1st Owner\\nDiesel</td>\n",
       "      <td>Hyderabad</td>\n",
       "      <td>Hyundai</td>\n",
       "      <td>[Creta1.6 SX CRDI]</td>\n",
       "      <td>2016</td>\n",
       "      <td>[Manual]</td>\n",
       "      <td>44,442</td>\n",
       "      <td>1</td>\n",
       "      <td>Diesel</td>\n",
       "      <td>â‚¹24462</td>\n",
       "    </tr>\n",
       "    <tr>\n",
       "      <th>4</th>\n",
       "      <td>2013 Maruti SwiftVXI Manual</td>\n",
       "      <td>433499</td>\n",
       "      <td>â‚¹9,643/month</td>\n",
       "      <td>61,650 km\\n1st Owner\\nPetrol</td>\n",
       "      <td>Hyderabad</td>\n",
       "      <td>Maruti</td>\n",
       "      <td>[SwiftVXI]</td>\n",
       "      <td>2013</td>\n",
       "      <td>[Manual]</td>\n",
       "      <td>61,650</td>\n",
       "      <td>1</td>\n",
       "      <td>Petrol</td>\n",
       "      <td>â‚¹9643</td>\n",
       "    </tr>\n",
       "  </tbody>\n",
       "</table>\n",
       "</div>"
      ],
      "text/plain": [
       "                               Car Name    Price              EMI  \\\n",
       "0   2009 Hyundai AccentEXECUTIVE Manual   252099   â‚¹5,608/month   \n",
       "1         2021 Maruti CelerioZXI Manual   717699  â‚¹15,965/month   \n",
       "2     2009 Hyundai i10SPORTZ 1.2 Manual   284199   â‚¹6,322/month   \n",
       "3  2016 Hyundai Creta1.6 SX CRDI Manual  1099699  â‚¹24,462/month   \n",
       "4           2013 Maruti SwiftVXI Manual   433499   â‚¹9,643/month   \n",
       "\n",
       "                       Features   Location Car Brand               Model  \\\n",
       "0  83,525 km\\n2nd Owner\\nPetrol  Hyderabad   Hyundai   [AccentEXECUTIVE]   \n",
       "1   2,072 km\\n1st Owner\\nPetrol  Hyderabad    Maruti        [CelerioZXI]   \n",
       "2  82,752 km\\n1st Owner\\nPetrol  Hyderabad   Hyundai     [i10SPORTZ 1.2]   \n",
       "3  44,442 km\\n1st Owner\\nDiesel  Hyderabad   Hyundai  [Creta1.6 SX CRDI]   \n",
       "4  61,650 km\\n1st Owner\\nPetrol  Hyderabad    Maruti          [SwiftVXI]   \n",
       "\n",
       "  Model Year      Gear Driven (Kms) Ownership    Fuel EMI (monthly)  \n",
       "0       2009  [Manual]       83,525         2  Petrol       â‚¹5608  \n",
       "1       2021  [Manual]        2,072         1  Petrol      â‚¹15965  \n",
       "2       2009  [Manual]       82,752         1  Petrol       â‚¹6322  \n",
       "3       2016  [Manual]       44,442         1  Diesel      â‚¹24462  \n",
       "4       2013  [Manual]       61,650         1  Petrol       â‚¹9643  "
      ]
     },
     "execution_count": 52,
     "metadata": {},
     "output_type": "execute_result"
    }
   ],
   "source": [
    "df.head()"
   ]
  },
  {
   "cell_type": "code",
   "execution_count": 53,
   "id": "acd726e8",
   "metadata": {},
   "outputs": [],
   "source": [
    "cols = ['Car Name', 'Features', 'EMI']\n",
    "columns = ['Car Brand', 'Model', 'Price', 'Model Year','Location' ,'Fuel', 'Driven (Kms)', 'Gear', 'Ownership', 'EMI (monthly)']\n",
    "df = df.drop(cols,axis=1)\n",
    "df = df[columns]"
   ]
  },
  {
   "cell_type": "code",
   "execution_count": 54,
   "id": "aeda5707",
   "metadata": {},
   "outputs": [
    {
     "data": {
      "text/html": [
       "<div>\n",
       "<style scoped>\n",
       "    .dataframe tbody tr th:only-of-type {\n",
       "        vertical-align: middle;\n",
       "    }\n",
       "\n",
       "    .dataframe tbody tr th {\n",
       "        vertical-align: top;\n",
       "    }\n",
       "\n",
       "    .dataframe thead th {\n",
       "        text-align: right;\n",
       "    }\n",
       "</style>\n",
       "<table border=\"1\" class=\"dataframe\">\n",
       "  <thead>\n",
       "    <tr style=\"text-align: right;\">\n",
       "      <th></th>\n",
       "      <th>Car Brand</th>\n",
       "      <th>Model</th>\n",
       "      <th>Price</th>\n",
       "      <th>Model Year</th>\n",
       "      <th>Location</th>\n",
       "      <th>Fuel</th>\n",
       "      <th>Driven (Kms)</th>\n",
       "      <th>Gear</th>\n",
       "      <th>Ownership</th>\n",
       "      <th>EMI (monthly)</th>\n",
       "    </tr>\n",
       "  </thead>\n",
       "  <tbody>\n",
       "    <tr>\n",
       "      <th>0</th>\n",
       "      <td>Hyundai</td>\n",
       "      <td>[AccentEXECUTIVE]</td>\n",
       "      <td>252099</td>\n",
       "      <td>2009</td>\n",
       "      <td>Hyderabad</td>\n",
       "      <td>Petrol</td>\n",
       "      <td>83,525</td>\n",
       "      <td>[Manual]</td>\n",
       "      <td>2</td>\n",
       "      <td>â‚¹5608</td>\n",
       "    </tr>\n",
       "    <tr>\n",
       "      <th>1</th>\n",
       "      <td>Maruti</td>\n",
       "      <td>[CelerioZXI]</td>\n",
       "      <td>717699</td>\n",
       "      <td>2021</td>\n",
       "      <td>Hyderabad</td>\n",
       "      <td>Petrol</td>\n",
       "      <td>2,072</td>\n",
       "      <td>[Manual]</td>\n",
       "      <td>1</td>\n",
       "      <td>â‚¹15965</td>\n",
       "    </tr>\n",
       "    <tr>\n",
       "      <th>2</th>\n",
       "      <td>Hyundai</td>\n",
       "      <td>[i10SPORTZ 1.2]</td>\n",
       "      <td>284199</td>\n",
       "      <td>2009</td>\n",
       "      <td>Hyderabad</td>\n",
       "      <td>Petrol</td>\n",
       "      <td>82,752</td>\n",
       "      <td>[Manual]</td>\n",
       "      <td>1</td>\n",
       "      <td>â‚¹6322</td>\n",
       "    </tr>\n",
       "    <tr>\n",
       "      <th>3</th>\n",
       "      <td>Hyundai</td>\n",
       "      <td>[Creta1.6 SX CRDI]</td>\n",
       "      <td>1099699</td>\n",
       "      <td>2016</td>\n",
       "      <td>Hyderabad</td>\n",
       "      <td>Diesel</td>\n",
       "      <td>44,442</td>\n",
       "      <td>[Manual]</td>\n",
       "      <td>1</td>\n",
       "      <td>â‚¹24462</td>\n",
       "    </tr>\n",
       "    <tr>\n",
       "      <th>4</th>\n",
       "      <td>Maruti</td>\n",
       "      <td>[SwiftVXI]</td>\n",
       "      <td>433499</td>\n",
       "      <td>2013</td>\n",
       "      <td>Hyderabad</td>\n",
       "      <td>Petrol</td>\n",
       "      <td>61,650</td>\n",
       "      <td>[Manual]</td>\n",
       "      <td>1</td>\n",
       "      <td>â‚¹9643</td>\n",
       "    </tr>\n",
       "  </tbody>\n",
       "</table>\n",
       "</div>"
      ],
      "text/plain": [
       "  Car Brand               Model    Price Model Year   Location    Fuel  \\\n",
       "0   Hyundai   [AccentEXECUTIVE]   252099       2009  Hyderabad  Petrol   \n",
       "1    Maruti        [CelerioZXI]   717699       2021  Hyderabad  Petrol   \n",
       "2   Hyundai     [i10SPORTZ 1.2]   284199       2009  Hyderabad  Petrol   \n",
       "3   Hyundai  [Creta1.6 SX CRDI]  1099699       2016  Hyderabad  Diesel   \n",
       "4    Maruti          [SwiftVXI]   433499       2013  Hyderabad  Petrol   \n",
       "\n",
       "  Driven (Kms)      Gear Ownership EMI (monthly)  \n",
       "0       83,525  [Manual]         2       â‚¹5608  \n",
       "1        2,072  [Manual]         1      â‚¹15965  \n",
       "2       82,752  [Manual]         1       â‚¹6322  \n",
       "3       44,442  [Manual]         1      â‚¹24462  \n",
       "4       61,650  [Manual]         1       â‚¹9643  "
      ]
     },
     "execution_count": 54,
     "metadata": {},
     "output_type": "execute_result"
    }
   ],
   "source": [
    "df.head()"
   ]
  },
  {
   "cell_type": "code",
   "execution_count": 55,
   "id": "af75f2dd",
   "metadata": {},
   "outputs": [],
   "source": [
    "df['Model'] = df['Model'].apply(lambda x: ''.join(x))\n",
    "df['Gear']  = df['Gear'].apply(lambda x: ''.join(x))\n",
    "df['Price'] = df['Price'].apply(lambda x: x.replace(',',''))\n",
    "df['Driven (Kms)'] = df['Driven (Kms)'].apply(lambda x: x.replace(',',''))"
   ]
  },
  {
   "cell_type": "code",
   "execution_count": 56,
   "id": "8fe70b3e",
   "metadata": {},
   "outputs": [],
   "source": [
    "df.to_csv('Car price data.csv')"
   ]
  }
 ],
 "metadata": {
  "kernelspec": {
   "display_name": "Python 3",
   "language": "python",
   "name": "python3"
  },
  "language_info": {
   "codemirror_mode": {
    "name": "ipython",
    "version": 3
   },
   "file_extension": ".py",
   "mimetype": "text/x-python",
   "name": "python",
   "nbconvert_exporter": "python",
   "pygments_lexer": "ipython3",
   "version": "3.8.8"
  }
 },
 "nbformat": 4,
 "nbformat_minor": 5
}
