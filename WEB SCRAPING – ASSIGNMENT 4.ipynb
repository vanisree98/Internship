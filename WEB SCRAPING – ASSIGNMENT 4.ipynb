{
 "cells": [
  {
   "cell_type": "markdown",
   "id": "8a554ba9",
   "metadata": {},
   "source": [
    "# WEB SCRAPING – ASSIGNMENT 4"
   ]
  },
  {
   "cell_type": "markdown",
   "id": "d686bfaf",
   "metadata": {},
   "source": [
    "### Importing packages"
   ]
  },
  {
   "cell_type": "code",
   "execution_count": 104,
   "id": "9d04f70e",
   "metadata": {},
   "outputs": [
    {
     "name": "stdout",
     "output_type": "stream",
     "text": [
      "Requirement already satisfied: selenium in c:\\users\\hi\\anaconda3\\lib\\site-packages (4.1.3)\n",
      "Requirement already satisfied: trio-websocket~=0.9 in c:\\users\\hi\\anaconda3\\lib\\site-packages (from selenium) (0.9.2)\n",
      "Requirement already satisfied: urllib3[secure,socks]~=1.26 in c:\\users\\hi\\anaconda3\\lib\\site-packages (from selenium) (1.26.4)\n",
      "Requirement already satisfied: trio~=0.17 in c:\\users\\hi\\anaconda3\\lib\\site-packages (from selenium) (0.20.0)\n",
      "Requirement already satisfied: cffi>=1.14 in c:\\users\\hi\\anaconda3\\lib\\site-packages (from trio~=0.17->selenium) (1.14.5)\n",
      "Requirement already satisfied: async-generator>=1.9 in c:\\users\\hi\\anaconda3\\lib\\site-packages (from trio~=0.17->selenium) (1.10)\n",
      "Requirement already satisfied: idna in c:\\users\\hi\\anaconda3\\lib\\site-packages (from trio~=0.17->selenium) (2.10)\n",
      "Requirement already satisfied: sniffio in c:\\users\\hi\\anaconda3\\lib\\site-packages (from trio~=0.17->selenium) (1.2.0)\n",
      "Requirement already satisfied: outcome in c:\\users\\hi\\anaconda3\\lib\\site-packages (from trio~=0.17->selenium) (1.1.0)\n",
      "Requirement already satisfied: sortedcontainers in c:\\users\\hi\\anaconda3\\lib\\site-packages (from trio~=0.17->selenium) (2.3.0)\n",
      "Requirement already satisfied: attrs>=19.2.0 in c:\\users\\hi\\anaconda3\\lib\\site-packages (from trio~=0.17->selenium) (20.3.0)\n",
      "Requirement already satisfied: pycparser in c:\\users\\hi\\anaconda3\\lib\\site-packages (from cffi>=1.14->trio~=0.17->selenium) (2.20)\n",
      "Requirement already satisfied: wsproto>=0.14 in c:\\users\\hi\\anaconda3\\lib\\site-packages (from trio-websocket~=0.9->selenium) (1.1.0)\n",
      "Requirement already satisfied: pyOpenSSL>=0.14 in c:\\users\\hi\\anaconda3\\lib\\site-packages (from urllib3[secure,socks]~=1.26->selenium) (20.0.1)\n",
      "Requirement already satisfied: certifi in c:\\users\\hi\\anaconda3\\lib\\site-packages (from urllib3[secure,socks]~=1.26->selenium) (2020.12.5)\n",
      "Requirement already satisfied: cryptography>=1.3.4 in c:\\users\\hi\\anaconda3\\lib\\site-packages (from urllib3[secure,socks]~=1.26->selenium) (3.4.7)\n",
      "Requirement already satisfied: PySocks!=1.5.7,<2.0,>=1.5.6 in c:\\users\\hi\\anaconda3\\lib\\site-packages (from urllib3[secure,socks]~=1.26->selenium) (1.7.1)\n",
      "Requirement already satisfied: six>=1.5.2 in c:\\users\\hi\\anaconda3\\lib\\site-packages (from pyOpenSSL>=0.14->urllib3[secure,socks]~=1.26->selenium) (1.15.0)\n",
      "Requirement already satisfied: h11<1,>=0.9.0 in c:\\users\\hi\\anaconda3\\lib\\site-packages (from wsproto>=0.14->trio-websocket~=0.9->selenium) (0.13.0)\n"
     ]
    }
   ],
   "source": [
    "#Let's install the selenium Library\n",
    "! pip install selenium"
   ]
  },
  {
   "cell_type": "code",
   "execution_count": 105,
   "id": "593d5b57",
   "metadata": {},
   "outputs": [],
   "source": [
    "#lets noe import all the required libraries \n",
    "import selenium\n",
    "from bs4 import BeautifulSoup\n",
    "import pandas as pd \n",
    "from selenium import webdriver\n",
    "import warnings\n",
    "warnings.filterwarnings('ignore')\n",
    "import requests\n",
    "from selenium.common.exceptions import StaleElementReferenceException, NoSuchElementException\n",
    "import time"
   ]
  },
  {
   "cell_type": "code",
   "execution_count": 106,
   "id": "be59306f",
   "metadata": {},
   "outputs": [],
   "source": [
    "#Lets first connect to the web drive\n",
    "\n",
    "driver= webdriver.Chrome(r'C:\\Users\\Hi\\Downloads\\chromedriver_win32\\chromedriver.exe')"
   ]
  },
  {
   "cell_type": "code",
   "execution_count": 107,
   "id": "c4fa0a60",
   "metadata": {},
   "outputs": [],
   "source": [
    "driver=webdriver.Chrome(\"chromedriver.exe\")\n",
    "time.sleep(2)"
   ]
  },
  {
   "cell_type": "markdown",
   "id": "848b5c48",
   "metadata": {},
   "source": [
    "# 1. Scrape the details of most viewed videos on YouTube from Wikipedia.\n",
    "Url = https://en.wikipedia.org/wiki/List_of_most-viewed_YouTube_videos\n",
    "You need to find following details:\n",
    "A) Rank\n",
    "B) Name\n",
    "C) Artist\n",
    "D) Upload date\n",
    "E) Views"
   ]
  },
  {
   "cell_type": "code",
   "execution_count": 5,
   "id": "7b4e61a7",
   "metadata": {},
   "outputs": [],
   "source": [
    "url='https://en.wikipedia.org/wiki/List_of_most-viewed_YouTube_videos'\n",
    "driver.get(url)\n"
   ]
  },
  {
   "cell_type": "code",
   "execution_count": 6,
   "id": "92e12279",
   "metadata": {},
   "outputs": [
    {
     "name": "stdout",
     "output_type": "stream",
     "text": [
      "30\n"
     ]
    }
   ],
   "source": [
    "rank=[]\n",
    "try:\n",
    "    ranks=driver.find_elements_by_xpath(\"//*[@id='mw-content-text']/div[1]/table[3]/tbody/tr/td[1]\") \n",
    "    for i in ranks:\n",
    "        rank.append(i.text)\n",
    "except NoSuchElementException:\n",
    "    rank.append('data not available')\n",
    "except StaleElementReferenceException:\n",
    "    rank.append('data not available')\n",
    "print(len(rank))"
   ]
  },
  {
   "cell_type": "code",
   "execution_count": 7,
   "id": "a3162395",
   "metadata": {},
   "outputs": [
    {
     "name": "stdout",
     "output_type": "stream",
     "text": [
      "30\n"
     ]
    }
   ],
   "source": [
    "Name=[]\n",
    "try:\n",
    "    names=driver.find_elements_by_xpath(\"//table[@class='wikitable sortable jquery-tablesorter'][1]/tbody/tr/td[2]\")\n",
    "    for i in names:\n",
    "        Name.append(i.text)\n",
    "except NoSuchElementException:\n",
    "    Name.append('No details available')\n",
    "except StaleElementReferenceException:\n",
    "    Name.append('No details available')\n",
    "print(len(Name))"
   ]
  },
  {
   "cell_type": "code",
   "execution_count": 9,
   "id": "336170fd",
   "metadata": {},
   "outputs": [
    {
     "name": "stdout",
     "output_type": "stream",
     "text": [
      "30\n"
     ]
    }
   ],
   "source": [
    "Artist=[]\n",
    "try:\n",
    "    artist=driver.find_elements_by_xpath(\"//table[@class='wikitable sortable jquery-tablesorter'][1]/tbody/tr/td[3]\")\n",
    "    for i in artist:\n",
    "        Artist.append(i.text)\n",
    "except NoSuchElementException:\n",
    "    Artist.append('No details available')\n",
    "except StaleElementReferenceException:\n",
    "    Artist.append('No details available')\n",
    "print(len(Artist))"
   ]
  },
  {
   "cell_type": "code",
   "execution_count": 10,
   "id": "d1072d91",
   "metadata": {},
   "outputs": [
    {
     "name": "stdout",
     "output_type": "stream",
     "text": [
      "30\n"
     ]
    }
   ],
   "source": [
    "Upload_date=[]\n",
    "try:\n",
    "    date=driver.find_elements_by_xpath(\"//table[@class='wikitable sortable jquery-tablesorter'][1]/tbody/tr/td[5]\")\n",
    "    for i in date:\n",
    "        Upload_date.append(i.text)\n",
    "except NoSuchElementException:\n",
    "    Upload_date.append('No details available')\n",
    "except StaleElementReferenceException:\n",
    "    Upload_date.append('No details available')\n",
    "print(len(Upload_date))"
   ]
  },
  {
   "cell_type": "code",
   "execution_count": 11,
   "id": "026a51ba",
   "metadata": {},
   "outputs": [
    {
     "name": "stdout",
     "output_type": "stream",
     "text": [
      "30\n"
     ]
    }
   ],
   "source": [
    "Views=[]\n",
    "try:\n",
    "    view=driver.find_elements_by_xpath(\"//table[@class='wikitable sortable jquery-tablesorter'][1]/tbody/tr/td[4]\")\n",
    "    for i in view:\n",
    "         Views.append(i.text)\n",
    "except NoSuchElementException:\n",
    "     Views.append('No details available')\n",
    "except StaleElementReferenceException:\n",
    "     Views.append('No details available')\n",
    "print(len(Name))"
   ]
  },
  {
   "cell_type": "code",
   "execution_count": 12,
   "id": "61f93574",
   "metadata": {},
   "outputs": [
    {
     "data": {
      "text/html": [
       "<div>\n",
       "<style scoped>\n",
       "    .dataframe tbody tr th:only-of-type {\n",
       "        vertical-align: middle;\n",
       "    }\n",
       "\n",
       "    .dataframe tbody tr th {\n",
       "        vertical-align: top;\n",
       "    }\n",
       "\n",
       "    .dataframe thead th {\n",
       "        text-align: right;\n",
       "    }\n",
       "</style>\n",
       "<table border=\"1\" class=\"dataframe\">\n",
       "  <thead>\n",
       "    <tr style=\"text-align: right;\">\n",
       "      <th></th>\n",
       "      <th>Rank</th>\n",
       "      <th>Name</th>\n",
       "      <th>Artist</th>\n",
       "      <th>Upload_date</th>\n",
       "      <th>Views</th>\n",
       "    </tr>\n",
       "  </thead>\n",
       "  <tbody>\n",
       "    <tr>\n",
       "      <th>0</th>\n",
       "      <td>1.</td>\n",
       "      <td>\"Baby Shark Dance\"[3]</td>\n",
       "      <td>Pinkfong Baby Shark - Kids' Songs &amp; Stories</td>\n",
       "      <td>June 17, 2016</td>\n",
       "      <td>10.72</td>\n",
       "    </tr>\n",
       "    <tr>\n",
       "      <th>1</th>\n",
       "      <td>2.</td>\n",
       "      <td>\"Despacito\"[6]</td>\n",
       "      <td>Luis Fonsi</td>\n",
       "      <td>January 12, 2017</td>\n",
       "      <td>7.85</td>\n",
       "    </tr>\n",
       "    <tr>\n",
       "      <th>2</th>\n",
       "      <td>3.</td>\n",
       "      <td>\"Johny Johny Yes Papa\"[12]</td>\n",
       "      <td>LooLoo Kids</td>\n",
       "      <td>October 8, 2016</td>\n",
       "      <td>6.36</td>\n",
       "    </tr>\n",
       "    <tr>\n",
       "      <th>3</th>\n",
       "      <td>4.</td>\n",
       "      <td>\"Shape of You\"[13]</td>\n",
       "      <td>Ed Sheeran</td>\n",
       "      <td>January 30, 2017</td>\n",
       "      <td>5.72</td>\n",
       "    </tr>\n",
       "    <tr>\n",
       "      <th>4</th>\n",
       "      <td>5.</td>\n",
       "      <td>\"See You Again\"[15]</td>\n",
       "      <td>Wiz Khalifa</td>\n",
       "      <td>April 6, 2015</td>\n",
       "      <td>5.52</td>\n",
       "    </tr>\n",
       "    <tr>\n",
       "      <th>5</th>\n",
       "      <td>6.</td>\n",
       "      <td>\"Bath Song\"[20]</td>\n",
       "      <td>Cocomelon – Nursery Rhymes</td>\n",
       "      <td>May 2, 2018</td>\n",
       "      <td>5.40</td>\n",
       "    </tr>\n",
       "    <tr>\n",
       "      <th>6</th>\n",
       "      <td>7.</td>\n",
       "      <td>\"Phonics Song with Two Words\"[21]</td>\n",
       "      <td>ChuChu TV</td>\n",
       "      <td>March 6, 2014</td>\n",
       "      <td>4.64</td>\n",
       "    </tr>\n",
       "    <tr>\n",
       "      <th>7</th>\n",
       "      <td>8.</td>\n",
       "      <td>\"Uptown Funk\"[22]</td>\n",
       "      <td>Mark Ronson</td>\n",
       "      <td>November 19, 2014</td>\n",
       "      <td>4.58</td>\n",
       "    </tr>\n",
       "    <tr>\n",
       "      <th>8</th>\n",
       "      <td>9.</td>\n",
       "      <td>\"Learning Colors – Colorful Eggs on a Farm\"[23]</td>\n",
       "      <td>Miroshka TV</td>\n",
       "      <td>February 27, 2018</td>\n",
       "      <td>4.57</td>\n",
       "    </tr>\n",
       "    <tr>\n",
       "      <th>9</th>\n",
       "      <td>10.</td>\n",
       "      <td>\"Masha and the Bear – Recipe for Disaster\"[24]</td>\n",
       "      <td>Get Movies</td>\n",
       "      <td>January 31, 2012</td>\n",
       "      <td>4.49</td>\n",
       "    </tr>\n",
       "    <tr>\n",
       "      <th>10</th>\n",
       "      <td>11.</td>\n",
       "      <td>\"Gangnam Style\"[25]</td>\n",
       "      <td>Psy</td>\n",
       "      <td>July 15, 2012</td>\n",
       "      <td>4.43</td>\n",
       "    </tr>\n",
       "    <tr>\n",
       "      <th>11</th>\n",
       "      <td>12.</td>\n",
       "      <td>\"Wheels on the Bus\"[30]</td>\n",
       "      <td>Cocomelon – Nursery Rhymes</td>\n",
       "      <td>May 24, 2018</td>\n",
       "      <td>4.08</td>\n",
       "    </tr>\n",
       "    <tr>\n",
       "      <th>12</th>\n",
       "      <td>13.</td>\n",
       "      <td>\"Dame Tu Cosita\"[31]</td>\n",
       "      <td>El Chombo</td>\n",
       "      <td>April 5, 2018</td>\n",
       "      <td>3.94</td>\n",
       "    </tr>\n",
       "    <tr>\n",
       "      <th>13</th>\n",
       "      <td>14.</td>\n",
       "      <td>\"Sugar\"[32]</td>\n",
       "      <td>Maroon 5</td>\n",
       "      <td>January 14, 2015</td>\n",
       "      <td>3.69</td>\n",
       "    </tr>\n",
       "    <tr>\n",
       "      <th>14</th>\n",
       "      <td>15.</td>\n",
       "      <td>\"Roar\"[33]</td>\n",
       "      <td>Katy Perry</td>\n",
       "      <td>September 5, 2013</td>\n",
       "      <td>3.58</td>\n",
       "    </tr>\n",
       "    <tr>\n",
       "      <th>15</th>\n",
       "      <td>16.</td>\n",
       "      <td>\"Counting Stars\"[34]</td>\n",
       "      <td>OneRepublic</td>\n",
       "      <td>May 31, 2013</td>\n",
       "      <td>3.58</td>\n",
       "    </tr>\n",
       "    <tr>\n",
       "      <th>16</th>\n",
       "      <td>17.</td>\n",
       "      <td>\"Sorry\"[35]</td>\n",
       "      <td>Justin Bieber</td>\n",
       "      <td>October 22, 2015</td>\n",
       "      <td>3.54</td>\n",
       "    </tr>\n",
       "    <tr>\n",
       "      <th>17</th>\n",
       "      <td>18.</td>\n",
       "      <td>\"Thinking Out Loud\"[36]</td>\n",
       "      <td>Ed Sheeran</td>\n",
       "      <td>October 7, 2014</td>\n",
       "      <td>3.45</td>\n",
       "    </tr>\n",
       "    <tr>\n",
       "      <th>18</th>\n",
       "      <td>19.</td>\n",
       "      <td>\"Axel F\"[37]</td>\n",
       "      <td>Crazy Frog</td>\n",
       "      <td>June 16, 2009</td>\n",
       "      <td>3.36</td>\n",
       "    </tr>\n",
       "    <tr>\n",
       "      <th>19</th>\n",
       "      <td>20.</td>\n",
       "      <td>\"Girls Like You\"[38]</td>\n",
       "      <td>Maroon 5</td>\n",
       "      <td>May 31, 2018</td>\n",
       "      <td>3.29</td>\n",
       "    </tr>\n",
       "    <tr>\n",
       "      <th>20</th>\n",
       "      <td>21.</td>\n",
       "      <td>\"Faded\"[39]</td>\n",
       "      <td>Alan Walker</td>\n",
       "      <td>December 3, 2015</td>\n",
       "      <td>3.28</td>\n",
       "    </tr>\n",
       "    <tr>\n",
       "      <th>21</th>\n",
       "      <td>22.</td>\n",
       "      <td>\"Dark Horse\"[40]</td>\n",
       "      <td>Katy Perry</td>\n",
       "      <td>February 20, 2014</td>\n",
       "      <td>3.27</td>\n",
       "    </tr>\n",
       "    <tr>\n",
       "      <th>22</th>\n",
       "      <td>23.</td>\n",
       "      <td>\"Baa Baa Black Sheep\"[41]</td>\n",
       "      <td>Cocomelon – Nursery Rhymes</td>\n",
       "      <td>June 25, 2018</td>\n",
       "      <td>3.24</td>\n",
       "    </tr>\n",
       "    <tr>\n",
       "      <th>23</th>\n",
       "      <td>24.</td>\n",
       "      <td>\"Let Her Go\"[42]</td>\n",
       "      <td>Passenger</td>\n",
       "      <td>July 25, 2012</td>\n",
       "      <td>3.23</td>\n",
       "    </tr>\n",
       "    <tr>\n",
       "      <th>24</th>\n",
       "      <td>25.</td>\n",
       "      <td>\"Bailando\"[43]</td>\n",
       "      <td>Enrique Iglesias</td>\n",
       "      <td>April 11, 2014</td>\n",
       "      <td>3.21</td>\n",
       "    </tr>\n",
       "    <tr>\n",
       "      <th>25</th>\n",
       "      <td>26.</td>\n",
       "      <td>\"Lean On\"[44]</td>\n",
       "      <td>Major Lazer</td>\n",
       "      <td>March 22, 2015</td>\n",
       "      <td>3.21</td>\n",
       "    </tr>\n",
       "    <tr>\n",
       "      <th>26</th>\n",
       "      <td>27.</td>\n",
       "      <td>\"Shake It Off\"[45]</td>\n",
       "      <td>Taylor Swift</td>\n",
       "      <td>August 18, 2014</td>\n",
       "      <td>3.17</td>\n",
       "    </tr>\n",
       "    <tr>\n",
       "      <th>27</th>\n",
       "      <td>28.</td>\n",
       "      <td>\"Perfect\"[46]</td>\n",
       "      <td>Ed Sheeran</td>\n",
       "      <td>November 9, 2017</td>\n",
       "      <td>3.17</td>\n",
       "    </tr>\n",
       "    <tr>\n",
       "      <th>28</th>\n",
       "      <td>29.</td>\n",
       "      <td>\"Waka Waka (This Time for Africa)\"[47]</td>\n",
       "      <td>Shakira</td>\n",
       "      <td>June 4, 2010</td>\n",
       "      <td>3.14</td>\n",
       "    </tr>\n",
       "    <tr>\n",
       "      <th>29</th>\n",
       "      <td>30.</td>\n",
       "      <td>\"Mi Gente\"[48]</td>\n",
       "      <td>J Balvin</td>\n",
       "      <td>June 29, 2017</td>\n",
       "      <td>3.08</td>\n",
       "    </tr>\n",
       "  </tbody>\n",
       "</table>\n",
       "</div>"
      ],
      "text/plain": [
       "   Rank                                             Name  \\\n",
       "0    1.                            \"Baby Shark Dance\"[3]   \n",
       "1    2.                                   \"Despacito\"[6]   \n",
       "2    3.                       \"Johny Johny Yes Papa\"[12]   \n",
       "3    4.                               \"Shape of You\"[13]   \n",
       "4    5.                              \"See You Again\"[15]   \n",
       "5    6.                                  \"Bath Song\"[20]   \n",
       "6    7.                \"Phonics Song with Two Words\"[21]   \n",
       "7    8.                                \"Uptown Funk\"[22]   \n",
       "8    9.  \"Learning Colors – Colorful Eggs on a Farm\"[23]   \n",
       "9   10.   \"Masha and the Bear – Recipe for Disaster\"[24]   \n",
       "10  11.                              \"Gangnam Style\"[25]   \n",
       "11  12.                          \"Wheels on the Bus\"[30]   \n",
       "12  13.                             \"Dame Tu Cosita\"[31]   \n",
       "13  14.                                      \"Sugar\"[32]   \n",
       "14  15.                                       \"Roar\"[33]   \n",
       "15  16.                             \"Counting Stars\"[34]   \n",
       "16  17.                                      \"Sorry\"[35]   \n",
       "17  18.                          \"Thinking Out Loud\"[36]   \n",
       "18  19.                                     \"Axel F\"[37]   \n",
       "19  20.                             \"Girls Like You\"[38]   \n",
       "20  21.                                      \"Faded\"[39]   \n",
       "21  22.                                 \"Dark Horse\"[40]   \n",
       "22  23.                        \"Baa Baa Black Sheep\"[41]   \n",
       "23  24.                                 \"Let Her Go\"[42]   \n",
       "24  25.                                   \"Bailando\"[43]   \n",
       "25  26.                                    \"Lean On\"[44]   \n",
       "26  27.                               \"Shake It Off\"[45]   \n",
       "27  28.                                    \"Perfect\"[46]   \n",
       "28  29.           \"Waka Waka (This Time for Africa)\"[47]   \n",
       "29  30.                                   \"Mi Gente\"[48]   \n",
       "\n",
       "                                         Artist        Upload_date  Views  \n",
       "0   Pinkfong Baby Shark - Kids' Songs & Stories      June 17, 2016  10.72  \n",
       "1                                    Luis Fonsi   January 12, 2017   7.85  \n",
       "2                                   LooLoo Kids    October 8, 2016   6.36  \n",
       "3                                    Ed Sheeran   January 30, 2017   5.72  \n",
       "4                                   Wiz Khalifa      April 6, 2015   5.52  \n",
       "5                    Cocomelon – Nursery Rhymes        May 2, 2018   5.40  \n",
       "6                                     ChuChu TV      March 6, 2014   4.64  \n",
       "7                                   Mark Ronson  November 19, 2014   4.58  \n",
       "8                                   Miroshka TV  February 27, 2018   4.57  \n",
       "9                                    Get Movies   January 31, 2012   4.49  \n",
       "10                                          Psy      July 15, 2012   4.43  \n",
       "11                   Cocomelon – Nursery Rhymes       May 24, 2018   4.08  \n",
       "12                                    El Chombo      April 5, 2018   3.94  \n",
       "13                                     Maroon 5   January 14, 2015   3.69  \n",
       "14                                   Katy Perry  September 5, 2013   3.58  \n",
       "15                                  OneRepublic       May 31, 2013   3.58  \n",
       "16                                Justin Bieber   October 22, 2015   3.54  \n",
       "17                                   Ed Sheeran    October 7, 2014   3.45  \n",
       "18                                   Crazy Frog      June 16, 2009   3.36  \n",
       "19                                     Maroon 5       May 31, 2018   3.29  \n",
       "20                                  Alan Walker   December 3, 2015   3.28  \n",
       "21                                   Katy Perry  February 20, 2014   3.27  \n",
       "22                   Cocomelon – Nursery Rhymes      June 25, 2018   3.24  \n",
       "23                                    Passenger      July 25, 2012   3.23  \n",
       "24                             Enrique Iglesias     April 11, 2014   3.21  \n",
       "25                                  Major Lazer     March 22, 2015   3.21  \n",
       "26                                 Taylor Swift    August 18, 2014   3.17  \n",
       "27                                   Ed Sheeran   November 9, 2017   3.17  \n",
       "28                                      Shakira       June 4, 2010   3.14  \n",
       "29                                     J Balvin      June 29, 2017   3.08  "
      ]
     },
     "execution_count": 12,
     "metadata": {},
     "output_type": "execute_result"
    }
   ],
   "source": [
    "import pandas as pd\n",
    "youtube=pd.DataFrame({})\n",
    "youtube['Rank']=rank\n",
    "youtube['Name']=Name\n",
    "youtube['Artist']=Artist\n",
    "youtube['Upload_date']=Upload_date\n",
    "youtube['Views']=Views\n",
    "youtube"
   ]
  },
  {
   "cell_type": "markdown",
   "id": "a5f73054",
   "metadata": {},
   "source": [
    "# 2. Scrape the details team India’s international fixtures from bcci.tv.\n",
    "Url = https://www.bcci.tv/.\n",
    "You need to find following details:\n",
    "A) Match title (I.e. 1st ODI)\n",
    "B) Series\n",
    "C) Place\n",
    "D) Date\n",
    "E) Time\n",
    "Note: - From bcci.tv home page you have reach to the international fixture page through code."
   ]
  },
  {
   "cell_type": "code",
   "execution_count": 108,
   "id": "ffbe968c",
   "metadata": {},
   "outputs": [],
   "source": [
    "Url = 'https://www.bcci.tv/'\n",
    "driver.get(Url)"
   ]
  },
  {
   "cell_type": "code",
   "execution_count": 109,
   "id": "2483acdb",
   "metadata": {},
   "outputs": [],
   "source": [
    "try:\n",
    "    fixture= driver.find_element_by_xpath('//*[@id=\"navigation\"]/ul[1]/li[2]/a')  \n",
    "    fixture.click()\n",
    "except NoSuchElementException:\n",
    "    print(\"Exception Occured. Moving to next page\")\n",
    "    "
   ]
  },
  {
   "cell_type": "code",
   "execution_count": null,
   "id": "243c66d5",
   "metadata": {},
   "outputs": [],
   "source": [
    "try:\n",
    "    all_formate= driver.find_element_by_xpath('//div[@class=\"cSBDisplay ng-binding\"]')  \n",
    "    all_formate.click()\n",
    "    search_button=driver.find_elements_by_xpath('//button[@class=\"cookie__accept btn btn-primary\"]')\n",
    "    search_button.click()\n",
    "\n",
    "except NoSuchElementException:\n",
    "    print(\"Exception Occured. Moving to next page\")\n",
    "    search_button = driver.find_element_by_xpath('//*[@id=\"fixtures\"]/div[2]/div/div[3]/div/div[2]/div[4]')\n",
    "    search_button.click()\n",
    "    time.sleep(5)"
   ]
  },
  {
   "cell_type": "code",
   "execution_count": 110,
   "id": "6ccd58f1",
   "metadata": {},
   "outputs": [],
   "source": [
    "urls=[]\n",
    "match_page=driver.find_elements_by_xpath(\"//div[@class='js-list']/a\")\n",
    "for i in match_page:\n",
    "    urls.append(i.get_attribute('href'))"
   ]
  },
  {
   "cell_type": "code",
   "execution_count": 111,
   "id": "b60cd0bc",
   "metadata": {},
   "outputs": [],
   "source": [
    "match=[]\n",
    "series=[]\n",
    "place=[]\n",
    "date=[]\n",
    "time=[]\n",
    "for i in urls:\n",
    "    driver.get(i)\n",
    "    try:\n",
    "        match_title=driver.find_element_by_xpath(\"//p[@class='mc-header-info__match-description']/span\")\n",
    "        match.append(match_title.text)\n",
    "    except NoSuchElementException:\n",
    "        match.append('No details available')\n",
    "    try:\n",
    "        series_title=driver.find_element_by_xpath(\"//h1[@class='mc-header-info__title']/strong\")\n",
    "        series.append(series_title.text)\n",
    "    except NoSuchElementException:\n",
    "        series.append(\"No details Available\")\n",
    "    try:\n",
    "        place_title=driver.find_element_by_xpath(\"//h1[@class='mc-header-info__title']\")\n",
    "        place.append(place_title.text.split()[-1])\n",
    "    except NoSuchElementException:\n",
    "        place.append(\"No details Available\")\n",
    "    try:\n",
    "        date_title=driver.find_element_by_xpath(\"//div[@class='mc-header-scorebox__datetime']/strong\")\n",
    "        date.append(date_title.text)\n",
    "    except NoSuchElementException:\n",
    "        date.append(\"No details Available\")        \n",
    "    try:\n",
    "        time_title=driver.find_element_by_xpath(\"//div[@class='mc-header-scorebox__datetime']/span\")\n",
    "        time.append(time_title.text)\n",
    "    except NoSuchElementException:\n",
    "        time.append(\"No details Available\")"
   ]
  },
  {
   "cell_type": "code",
   "execution_count": null,
   "id": "78724769",
   "metadata": {},
   "outputs": [],
   "source": [
    "bcci=pd.DataFrame({})\n",
    "bcci['Match title']=Match_title[:5]\n",
    "bcci['Series']=Series[:5]\n",
    "#bcci['Place']=Place[:5]\n",
    "#bcci['Date']=Date[:5]\n",
    "bcci"
   ]
  },
  {
   "cell_type": "markdown",
   "id": "f981e267",
   "metadata": {},
   "source": [
    "### 3. Scrape the details of selenium exception from guru99.com. \n",
    "Url = https://www.guru99.com/\n",
    "You need to find following details:\n",
    "A) Name\n",
    "B) Description"
   ]
  },
  {
   "cell_type": "code",
   "execution_count": 78,
   "id": "50ec7c5b",
   "metadata": {},
   "outputs": [],
   "source": [
    "Url = 'https://www.guru99.com/'\n",
    "driver.get(Url)"
   ]
  },
  {
   "cell_type": "code",
   "execution_count": 81,
   "id": "b7ad729d",
   "metadata": {},
   "outputs": [],
   "source": [
    "selenium_link=driver.find_element_by_xpath('//*[@id=\"java_technologies\"]/li[3]/a')\n",
    "selenium_link.click()"
   ]
  },
  {
   "cell_type": "code",
   "execution_count": 82,
   "id": "e2d43539",
   "metadata": {},
   "outputs": [],
   "source": [
    "exception_handle_link=driver.find_element_by_xpath('//*[@id=\"post-193\"]/div/div/table[5]/tbody/tr[34]/td[1]/a')\n",
    "try:\n",
    "    exception_handle_link.click()\n",
    "except ElementNotInteractableException:\n",
    "    driver.get(exception_handle_link.get_attribute('href'))"
   ]
  },
  {
   "cell_type": "code",
   "execution_count": 84,
   "id": "0fd2055d",
   "metadata": {},
   "outputs": [
    {
     "name": "stdout",
     "output_type": "stream",
     "text": [
      "40\n"
     ]
    }
   ],
   "source": [
    "exception_name=[]\n",
    "try:\n",
    "    exception_names=driver.find_elements_by_xpath('//*[@id=\"post-1953\"]/div/div/table/tbody/tr/td[1]')\n",
    "    for i in exception_names[1:]:\n",
    "        exception_name.append(i.text)\n",
    "except NoSuchElementException:\n",
    "    exception_name.append('No details available')\n",
    "print(len(exception_name))"
   ]
  },
  {
   "cell_type": "code",
   "execution_count": 86,
   "id": "95333236",
   "metadata": {},
   "outputs": [
    {
     "name": "stdout",
     "output_type": "stream",
     "text": [
      "40\n"
     ]
    }
   ],
   "source": [
    "desc=[]\n",
    "try:\n",
    "    desc_list=driver.find_elements_by_xpath('//*[@id=\"post-1953\"]/div/div/table/tbody/tr/td[2]')\n",
    "    for i in desc_list[1:]:\n",
    "        desc.append(i.text)\n",
    "except NoSuchElementException:\n",
    "    desc.append('No details available')\n",
    "print(len(desc))"
   ]
  },
  {
   "cell_type": "code",
   "execution_count": 88,
   "id": "9f65a34e",
   "metadata": {},
   "outputs": [
    {
     "data": {
      "text/html": [
       "<div>\n",
       "<style scoped>\n",
       "    .dataframe tbody tr th:only-of-type {\n",
       "        vertical-align: middle;\n",
       "    }\n",
       "\n",
       "    .dataframe tbody tr th {\n",
       "        vertical-align: top;\n",
       "    }\n",
       "\n",
       "    .dataframe thead th {\n",
       "        text-align: right;\n",
       "    }\n",
       "</style>\n",
       "<table border=\"1\" class=\"dataframe\">\n",
       "  <thead>\n",
       "    <tr style=\"text-align: right;\">\n",
       "      <th></th>\n",
       "      <th>Exception_name</th>\n",
       "      <th>Description</th>\n",
       "    </tr>\n",
       "  </thead>\n",
       "  <tbody>\n",
       "    <tr>\n",
       "      <th>0</th>\n",
       "      <td>ElementNotSelectableException</td>\n",
       "      <td>This Selenium exception occurs when an element...</td>\n",
       "    </tr>\n",
       "    <tr>\n",
       "      <th>1</th>\n",
       "      <td>NoSuchElementException</td>\n",
       "      <td>This Exception occurs if an element could not ...</td>\n",
       "    </tr>\n",
       "    <tr>\n",
       "      <th>2</th>\n",
       "      <td>NoSuchFrameException</td>\n",
       "      <td>This Exception occurs if the frame target to b...</td>\n",
       "    </tr>\n",
       "    <tr>\n",
       "      <th>3</th>\n",
       "      <td>NoAlertPresentException</td>\n",
       "      <td>This Exception occurs when you switch to no pr...</td>\n",
       "    </tr>\n",
       "    <tr>\n",
       "      <th>4</th>\n",
       "      <td>NoSuchWindowException</td>\n",
       "      <td>This Exception occurs if the window target to ...</td>\n",
       "    </tr>\n",
       "  </tbody>\n",
       "</table>\n",
       "</div>"
      ],
      "text/plain": [
       "                  Exception_name  \\\n",
       "0  ElementNotSelectableException   \n",
       "1         NoSuchElementException   \n",
       "2           NoSuchFrameException   \n",
       "3        NoAlertPresentException   \n",
       "4          NoSuchWindowException   \n",
       "\n",
       "                                         Description  \n",
       "0  This Selenium exception occurs when an element...  \n",
       "1  This Exception occurs if an element could not ...  \n",
       "2  This Exception occurs if the frame target to b...  \n",
       "3  This Exception occurs when you switch to no pr...  \n",
       "4  This Exception occurs if the window target to ...  "
      ]
     },
     "execution_count": 88,
     "metadata": {},
     "output_type": "execute_result"
    }
   ],
   "source": [
    "df=pd.DataFrame({\"Exception_name\":exception_name,\n",
    "                \"Description\":desc})\n",
    "df.head()"
   ]
  },
  {
   "cell_type": "markdown",
   "id": "fdea3362",
   "metadata": {},
   "source": [
    "## 4. Scrape the details of State-wise GDP of India from statisticstime.com. Url = http://statisticstimes.com/\n",
    "You have to find following details:\n",
    "A) Rank\n",
    "B) State\n",
    "C) GSDP(18-19)\n",
    "D) GSDP(17-18)\n",
    "E) Share(2017)\n",
    "F) GDP($ billion)"
   ]
  },
  {
   "cell_type": "code",
   "execution_count": 25,
   "id": "8b376d2f",
   "metadata": {},
   "outputs": [],
   "source": [
    "url=\"http://statisticstimes.com/\"\n",
    "driver.get(url)"
   ]
  },
  {
   "cell_type": "code",
   "execution_count": 26,
   "id": "87985721",
   "metadata": {},
   "outputs": [],
   "source": [
    "driver.get(url)"
   ]
  },
  {
   "cell_type": "code",
   "execution_count": 51,
   "id": "d98ed529",
   "metadata": {},
   "outputs": [],
   "source": [
    "economy=driver.find_element_by_xpath('/html/body/div[2]/div[1]/div[2]/div[2]/button')\n",
    "economy.click()\n"
   ]
  },
  {
   "cell_type": "code",
   "execution_count": 52,
   "id": "a50b5923",
   "metadata": {},
   "outputs": [],
   "source": [
    "india_GDP = driver.find_element_by_xpath('/html/body/div[2]/div[1]/div[2]/div[2]/div/a[3]')    \n",
    "india_GDP.click()"
   ]
  },
  {
   "cell_type": "code",
   "execution_count": 53,
   "id": "5cffd02a",
   "metadata": {},
   "outputs": [],
   "source": [
    "GDP=driver.find_element_by_xpath(\"/html/body/div[2]/div[2]/div[2]/ul/li[1]/a\")\n",
    "try:\n",
    "    GDP.click()\n",
    "except ElementNotInteractableException:\n",
    "    driver.get(GDP.get_attribute('href'))"
   ]
  },
  {
   "cell_type": "code",
   "execution_count": 54,
   "id": "3b710a6c",
   "metadata": {},
   "outputs": [
    {
     "name": "stdout",
     "output_type": "stream",
     "text": [
      "33\n"
     ]
    }
   ],
   "source": [
    "rank=[]\n",
    "try:\n",
    "    ranks=driver.find_elements_by_xpath(\"//div[@id='table_id_wrapper']/table/tbody/tr/td[1]\")\n",
    "    for i in ranks:\n",
    "        rank.append(i.text)\n",
    "except NoSuchElementException:\n",
    "    rank.append('No details available')\n",
    "print(len(rank))"
   ]
  },
  {
   "cell_type": "code",
   "execution_count": 55,
   "id": "90cdd35d",
   "metadata": {},
   "outputs": [
    {
     "name": "stdout",
     "output_type": "stream",
     "text": [
      "33\n"
     ]
    }
   ],
   "source": [
    "State=[]\n",
    "try:\n",
    "    states=driver.find_elements_by_xpath(\"//div[@id='table_id_wrapper']/table/tbody/tr/td[2]\")\n",
    "    for i in states:\n",
    "        State.append(i.text)\n",
    "except NoSuchElementException:\n",
    "    State.append('No details available')\n",
    "print(len(State))"
   ]
  },
  {
   "cell_type": "code",
   "execution_count": 56,
   "id": "1195c495",
   "metadata": {},
   "outputs": [
    {
     "name": "stdout",
     "output_type": "stream",
     "text": [
      "33\n"
     ]
    }
   ],
   "source": [
    "GSDP_18=[]\n",
    "try:\n",
    "    info=driver.find_elements_by_xpath(\"//div[@id='table_id_wrapper']/table/tbody/tr/td[3]\")\n",
    "    for i in info:\n",
    "        GSDP_18.append(i.text)\n",
    "except NoSuchElementException:\n",
    "    GSDP_18.append('No details available')\n",
    "print(len(GSDP_18))"
   ]
  },
  {
   "cell_type": "code",
   "execution_count": 57,
   "id": "72e73917",
   "metadata": {},
   "outputs": [
    {
     "name": "stdout",
     "output_type": "stream",
     "text": [
      "33\n"
     ]
    }
   ],
   "source": [
    "GSDP_17=[]\n",
    "try:\n",
    "    info=driver.find_elements_by_xpath(\"//div[@id='table_id_wrapper']/table/tbody/tr/td[4]\")\n",
    "    for i in info:\n",
    "        GSDP_17.append(i.text)\n",
    "except NoSuchElementException:\n",
    "    GSDP_17.append('No details available')\n",
    "print(len(GSDP_17))"
   ]
  },
  {
   "cell_type": "code",
   "execution_count": 58,
   "id": "d02cdcce",
   "metadata": {},
   "outputs": [
    {
     "name": "stdout",
     "output_type": "stream",
     "text": [
      "33\n"
     ]
    }
   ],
   "source": [
    "share=[]\n",
    "try:\n",
    "    info=driver.find_elements_by_xpath(\"//div[@id='table_id_wrapper']/table/tbody/tr/td[5]\")\n",
    "    for i in info:\n",
    "        share.append(i.text)\n",
    "except NoSuchElementException:\n",
    "    share.append('No details available')\n",
    "print(len(share))"
   ]
  },
  {
   "cell_type": "code",
   "execution_count": 59,
   "id": "293a3af3",
   "metadata": {},
   "outputs": [
    {
     "name": "stdout",
     "output_type": "stream",
     "text": [
      "33\n"
     ]
    }
   ],
   "source": [
    "GDP_billion=[]\n",
    "try:\n",
    "    info=driver.find_elements_by_xpath(\"//div[@id='table_id_wrapper']/table/tbody/tr/td[6]\")\n",
    "    for i in info:\n",
    "        GDP_billion.append(i.text)\n",
    "except NoSuchElementException:\n",
    "    GDP_billion.append('No details available')\n",
    "print(len(GDP_billion))"
   ]
  },
  {
   "cell_type": "code",
   "execution_count": 60,
   "id": "d7985cbc",
   "metadata": {},
   "outputs": [],
   "source": [
    "df=pd.DataFrame({'Rank':rank,\n",
    "                'State':State,\n",
    "                'GSDP(18-19)':GSDP_18,\n",
    "                'GSDP(17-18)':GSDP_17,\n",
    "                'Share_2017':share,\n",
    "                'GDP(Billion_$)':GDP_billion})"
   ]
  },
  {
   "cell_type": "code",
   "execution_count": 61,
   "id": "f0886eb5",
   "metadata": {},
   "outputs": [
    {
     "data": {
      "text/html": [
       "<div>\n",
       "<style scoped>\n",
       "    .dataframe tbody tr th:only-of-type {\n",
       "        vertical-align: middle;\n",
       "    }\n",
       "\n",
       "    .dataframe tbody tr th {\n",
       "        vertical-align: top;\n",
       "    }\n",
       "\n",
       "    .dataframe thead th {\n",
       "        text-align: right;\n",
       "    }\n",
       "</style>\n",
       "<table border=\"1\" class=\"dataframe\">\n",
       "  <thead>\n",
       "    <tr style=\"text-align: right;\">\n",
       "      <th></th>\n",
       "      <th>Rank</th>\n",
       "      <th>State</th>\n",
       "      <th>GSDP(18-19)</th>\n",
       "      <th>GSDP(17-18)</th>\n",
       "      <th>Share_2017</th>\n",
       "      <th>GDP(Billion_$)</th>\n",
       "    </tr>\n",
       "  </thead>\n",
       "  <tbody>\n",
       "    <tr>\n",
       "      <th>0</th>\n",
       "      <td>1</td>\n",
       "      <td>Maharashtra</td>\n",
       "      <td>-</td>\n",
       "      <td>2,632,792</td>\n",
       "      <td>13.94%</td>\n",
       "      <td>399.921</td>\n",
       "    </tr>\n",
       "    <tr>\n",
       "      <th>1</th>\n",
       "      <td>2</td>\n",
       "      <td>Tamil Nadu</td>\n",
       "      <td>1,845,853</td>\n",
       "      <td>1,630,208</td>\n",
       "      <td>8.63%</td>\n",
       "      <td>247.629</td>\n",
       "    </tr>\n",
       "    <tr>\n",
       "      <th>2</th>\n",
       "      <td>3</td>\n",
       "      <td>Uttar Pradesh</td>\n",
       "      <td>1,687,818</td>\n",
       "      <td>1,584,764</td>\n",
       "      <td>8.39%</td>\n",
       "      <td>240.726</td>\n",
       "    </tr>\n",
       "    <tr>\n",
       "      <th>3</th>\n",
       "      <td>4</td>\n",
       "      <td>Gujarat</td>\n",
       "      <td>-</td>\n",
       "      <td>1,502,899</td>\n",
       "      <td>7.96%</td>\n",
       "      <td>228.290</td>\n",
       "    </tr>\n",
       "    <tr>\n",
       "      <th>4</th>\n",
       "      <td>5</td>\n",
       "      <td>Karnataka</td>\n",
       "      <td>1,631,977</td>\n",
       "      <td>1,493,127</td>\n",
       "      <td>7.91%</td>\n",
       "      <td>226.806</td>\n",
       "    </tr>\n",
       "  </tbody>\n",
       "</table>\n",
       "</div>"
      ],
      "text/plain": [
       "  Rank          State GSDP(18-19) GSDP(17-18) Share_2017 GDP(Billion_$)\n",
       "0    1    Maharashtra           -   2,632,792     13.94%        399.921\n",
       "1    2     Tamil Nadu   1,845,853   1,630,208      8.63%        247.629\n",
       "2    3  Uttar Pradesh   1,687,818   1,584,764      8.39%        240.726\n",
       "3    4        Gujarat           -   1,502,899      7.96%        228.290\n",
       "4    5      Karnataka   1,631,977   1,493,127      7.91%        226.806"
      ]
     },
     "execution_count": 61,
     "metadata": {},
     "output_type": "execute_result"
    }
   ],
   "source": [
    "df.head()"
   ]
  },
  {
   "cell_type": "markdown",
   "id": "b29ba5ac",
   "metadata": {},
   "source": [
    "### 5. Scrape the details of trending repositories on Github.com. Url = https://github.com/. You have to find the following details:\n",
    "A) Repository title\n",
    "B) Repository description\n",
    "C) Contributors count\n",
    "D) Language used"
   ]
  },
  {
   "cell_type": "code",
   "execution_count": 62,
   "id": "5476bb2f",
   "metadata": {},
   "outputs": [],
   "source": [
    "driver.get(\"https://github.com/\")"
   ]
  },
  {
   "cell_type": "code",
   "execution_count": 69,
   "id": "a9da5d8b",
   "metadata": {},
   "outputs": [],
   "source": [
    "explore=driver.find_element_by_xpath(\"/html/body/div[1]/header/div/div[1]/div[2]/button\")\n",
    "explore.click()\n",
    "time.sleep(5)"
   ]
  },
  {
   "cell_type": "code",
   "execution_count": 56,
   "id": "796ec299",
   "metadata": {},
   "outputs": [],
   "source": [
    "explore=driver.find_element_by_xpath('//span[@class=\"text-normal\"]')\n",
    "explore.click()\n",
    "time.sleep(5)"
   ]
  },
  {
   "cell_type": "code",
   "execution_count": 70,
   "id": "841970f6",
   "metadata": {},
   "outputs": [
    {
     "name": "stdout",
     "output_type": "stream",
     "text": [
      "25\n"
     ]
    }
   ],
   "source": [
    "repo_title=[]\n",
    "try:\n",
    "    repos=driver.find_elements_by_xpath(\"//h1[@class='h3 lh-condensed']\")\n",
    "    for i in repos:\n",
    "        repo_title.append(i.text)\n",
    "except NoSuchElementException:\n",
    "    repo_title.append('No details available')\n",
    "print(len(repo_title))"
   ]
  },
  {
   "cell_type": "code",
   "execution_count": 72,
   "id": "16aa879e",
   "metadata": {},
   "outputs": [
    {
     "name": "stdout",
     "output_type": "stream",
     "text": [
      "25\n"
     ]
    }
   ],
   "source": [
    "repo_urls=[]\n",
    "repos=driver.find_elements_by_xpath(\"//h1[@class='h3 lh-condensed']/a\")\n",
    "for i in repos:\n",
    "    repo_urls.append(i.get_attribute('href'))\n",
    "print(len(repo_urls))"
   ]
  },
  {
   "cell_type": "code",
   "execution_count": 73,
   "id": "17bfcbd8",
   "metadata": {},
   "outputs": [
    {
     "name": "stdout",
     "output_type": "stream",
     "text": [
      "25\n",
      "25\n"
     ]
    }
   ],
   "source": [
    "Contributors_count=[]\n",
    "Language_used=[]\n",
    "for i in repo_urls:\n",
    "    driver.get(i)\n",
    "    l=[]\n",
    "    try:\n",
    "        count=driver.find_element_by_xpath(\"//h2[@class='h4 mb-3']/a[contains(text(),'Contributors')]/span\")\n",
    "        Contributors_count.append(count.text)\n",
    "    except NoSuchElementException:\n",
    "        Contributors_count.append('No details available')\n",
    "   \n",
    "    languages=driver.find_elements_by_xpath(\"//span[@class='text-gray-dark text-bold mr-1']\")\n",
    "    if languages:    \n",
    "        for i in languages:\n",
    "            l.append(i.text)\n",
    "    else:\n",
    "        l.append('No languages used')\n",
    "    Language_used.append(l)\n",
    "print(len(Contributors_count))\n",
    "print(len(Language_used))\n"
   ]
  },
  {
   "cell_type": "code",
   "execution_count": 74,
   "id": "802ea5ce",
   "metadata": {},
   "outputs": [
    {
     "data": {
      "text/html": [
       "<div>\n",
       "<style scoped>\n",
       "    .dataframe tbody tr th:only-of-type {\n",
       "        vertical-align: middle;\n",
       "    }\n",
       "\n",
       "    .dataframe tbody tr th {\n",
       "        vertical-align: top;\n",
       "    }\n",
       "\n",
       "    .dataframe thead th {\n",
       "        text-align: right;\n",
       "    }\n",
       "</style>\n",
       "<table border=\"1\" class=\"dataframe\">\n",
       "  <thead>\n",
       "    <tr style=\"text-align: right;\">\n",
       "      <th></th>\n",
       "      <th>Title</th>\n",
       "      <th>Contributors_count</th>\n",
       "      <th>Language_used</th>\n",
       "    </tr>\n",
       "  </thead>\n",
       "  <tbody>\n",
       "    <tr>\n",
       "      <th>0</th>\n",
       "      <td>PaperMC / Paper</td>\n",
       "      <td>291</td>\n",
       "      <td>[No languages used]</td>\n",
       "    </tr>\n",
       "    <tr>\n",
       "      <th>1</th>\n",
       "      <td>android / nowinandroid</td>\n",
       "      <td>28</td>\n",
       "      <td>[No languages used]</td>\n",
       "    </tr>\n",
       "    <tr>\n",
       "      <th>2</th>\n",
       "      <td>borisdayma / dalle-mini</td>\n",
       "      <td>15</td>\n",
       "      <td>[No languages used]</td>\n",
       "    </tr>\n",
       "    <tr>\n",
       "      <th>3</th>\n",
       "      <td>doocs / source-code-hunter</td>\n",
       "      <td>21</td>\n",
       "      <td>[No languages used]</td>\n",
       "    </tr>\n",
       "    <tr>\n",
       "      <th>4</th>\n",
       "      <td>ahmedtariq01 / Cloud-DevOps-Learning-Resources</td>\n",
       "      <td>No details available</td>\n",
       "      <td>[No languages used]</td>\n",
       "    </tr>\n",
       "  </tbody>\n",
       "</table>\n",
       "</div>"
      ],
      "text/plain": [
       "                                            Title    Contributors_count  \\\n",
       "0                                 PaperMC / Paper                   291   \n",
       "1                          android / nowinandroid                    28   \n",
       "2                         borisdayma / dalle-mini                    15   \n",
       "3                      doocs / source-code-hunter                    21   \n",
       "4  ahmedtariq01 / Cloud-DevOps-Learning-Resources  No details available   \n",
       "\n",
       "         Language_used  \n",
       "0  [No languages used]  \n",
       "1  [No languages used]  \n",
       "2  [No languages used]  \n",
       "3  [No languages used]  \n",
       "4  [No languages used]  "
      ]
     },
     "execution_count": 74,
     "metadata": {},
     "output_type": "execute_result"
    }
   ],
   "source": [
    "df=pd.DataFrame({'Title':repo_title,\n",
    "                 'repo_urls':repo_urls\n",
    "                'Contributors_count':Contributors_count,\n",
    "                'Language_used':Language_used})\n",
    "df.head()"
   ]
  },
  {
   "cell_type": "markdown",
   "id": "840da73d",
   "metadata": {},
   "source": [
    "### 6. Scrape the details of top 100 songs on billiboard.com. Url = https:/www.billboard.com/ .You have to find the following details:\n",
    "A) Song name\n",
    "B) Artist name\n",
    "C) Last week rank\n",
    "D) Peak rank\n",
    "E) Weeks on board\n",
    "Note: - From the home page you have to click on the charts option then hot 100-page link through code."
   ]
  },
  {
   "cell_type": "code",
   "execution_count": 15,
   "id": "d13f87af",
   "metadata": {},
   "outputs": [],
   "source": [
    "driver.get(\"https://www.billboard.com/\")"
   ]
  },
  {
   "cell_type": "code",
   "execution_count": null,
   "id": "b642d5bf",
   "metadata": {},
   "outputs": [],
   "source": [
    "\n",
    "search=driver.find_element_by_xpath('//*[@id=\"main-wrapper\"]/header/div[1]/div/div/div[1]/button/svg')\n",
    "search.click()"
   ]
  },
  {
   "cell_type": "code",
   "execution_count": null,
   "id": "91df6355",
   "metadata": {},
   "outputs": [],
   "source": [
    "charts=driver.find_element_by_xpath(\"//a[@class='header__main-link header__main-link--charts']\")\n",
    "try:\n",
    "    charts.click()\n",
    "except ElementNotInteractableException:\n",
    "    driver.get(charts.get_attribute('href'))\n",
    "\n"
   ]
  },
  {
   "cell_type": "code",
   "execution_count": null,
   "id": "879a49c0",
   "metadata": {},
   "outputs": [],
   "source": [
    "top_100=driver.find_element_by_xpath(\"//a[@class='charts-landing__link charts-landing__video--background']\")\n",
    "try:\n",
    "    top_100.click()\n",
    "except NoSuchElementException as e:\n",
    "            Availability.append('-')"
   ]
  },
  {
   "cell_type": "code",
   "execution_count": 27,
   "id": "1f64ad91",
   "metadata": {},
   "outputs": [
    {
     "name": "stdout",
     "output_type": "stream",
     "text": [
      "100\n"
     ]
    }
   ],
   "source": [
    "song_name=[]\n",
    "try:\n",
    "    names=driver.find_elements_by_xpath('/html/body/div[4]/main/div[2]/div[3]/div/div/div/div[2]/div/ul/li[4]/ul/li[1]/h3')\n",
    "    for i in names:\n",
    "        song_name.append(i.text)          \n",
    "except NoSuchElementException:\n",
    "    song_name.append('No details available')\n",
    "print(len(song_name))"
   ]
  },
  {
   "cell_type": "code",
   "execution_count": 19,
   "id": "9848d94a",
   "metadata": {},
   "outputs": [
    {
     "name": "stdout",
     "output_type": "stream",
     "text": [
      "100\n"
     ]
    }
   ],
   "source": [
    "artist_name=[]\n",
    "try:\n",
    "    names=driver.find_elements_by_xpath('//*[@id=\"post-1479786\"]/div[3]/div/div/div/div[2]/div/ul/li[4]/ul/li[1]/span')\n",
    "    for i in names:\n",
    "        artist_name.append(i.text)\n",
    "except NoSuchElementException:\n",
    "    artist_name.append('No details available')\n",
    "print(len(artist_name))"
   ]
  },
  {
   "cell_type": "code",
   "execution_count": 21,
   "id": "357d0baf",
   "metadata": {},
   "outputs": [
    {
     "name": "stdout",
     "output_type": "stream",
     "text": [
      "100\n"
     ]
    }
   ],
   "source": [
    "last_week_rank=[]\n",
    "try:\n",
    "    ranks=driver.find_elements_by_xpath('//*[@id=\"post-1479786\"]/div[3]/div/div/div/div[2]/div/ul/li[4]/ul/li[7]/ul/li[3]/span')\n",
    "    for i in ranks:\n",
    "        last_week_rank.append(i.text)\n",
    "except NoSuchElementException:\n",
    "    last_week_rank.append('No details available')\n",
    "print(len(last_week_rank))"
   ]
  },
  {
   "cell_type": "code",
   "execution_count": 22,
   "id": "fec35584",
   "metadata": {},
   "outputs": [
    {
     "name": "stdout",
     "output_type": "stream",
     "text": [
      "100\n"
     ]
    }
   ],
   "source": [
    "peak_rank=[]\n",
    "try:\n",
    "    ranks=driver.find_elements_by_xpath('//*[@id=\"post-1479786\"]/div[3]/div/div/div/div[2]/div/ul/li[4]/ul/li[7]/ul/li[4]/span')\n",
    "    for i in ranks:\n",
    "        peak_rank.append(i.text)\n",
    "except NoSuchElementException:\n",
    "    peak_rank.append('No details available')\n",
    "print(len(peak_rank))"
   ]
  },
  {
   "cell_type": "code",
   "execution_count": 23,
   "id": "eeef1f83",
   "metadata": {},
   "outputs": [
    {
     "name": "stdout",
     "output_type": "stream",
     "text": [
      "100\n"
     ]
    }
   ],
   "source": [
    "weeks=[]\n",
    "try:\n",
    "    week_count=driver.find_elements_by_xpath('//*[@id=\"post-1479786\"]/div[3]/div/div/div/div[2]/div/ul/li[4]/ul/li[6]/span')\n",
    "    for i in week_count:\n",
    "        weeks.append(i.text)\n",
    "except NoSuchElementException:             \n",
    "    weeks.append('No details available')\n",
    "print(len(weeks))"
   ]
  },
  {
   "cell_type": "code",
   "execution_count": 28,
   "id": "512a2029",
   "metadata": {},
   "outputs": [],
   "source": [
    "df=pd.DataFrame({'Song_Name':song_name,\n",
    "                'Artist_Name':artist_name,\n",
    "                'Last_week_rank':last_week_rank,\n",
    "                'Peak':peak_rank,\n",
    "                'Weeks_on_chart':weeks})"
   ]
  },
  {
   "cell_type": "code",
   "execution_count": 29,
   "id": "11d84c73",
   "metadata": {},
   "outputs": [
    {
     "data": {
      "text/html": [
       "<div>\n",
       "<style scoped>\n",
       "    .dataframe tbody tr th:only-of-type {\n",
       "        vertical-align: middle;\n",
       "    }\n",
       "\n",
       "    .dataframe tbody tr th {\n",
       "        vertical-align: top;\n",
       "    }\n",
       "\n",
       "    .dataframe thead th {\n",
       "        text-align: right;\n",
       "    }\n",
       "</style>\n",
       "<table border=\"1\" class=\"dataframe\">\n",
       "  <thead>\n",
       "    <tr style=\"text-align: right;\">\n",
       "      <th></th>\n",
       "      <th>Song_Name</th>\n",
       "      <th>Artist_Name</th>\n",
       "      <th>Last_week_rank</th>\n",
       "      <th>Peak</th>\n",
       "      <th>Weeks_on_chart</th>\n",
       "    </tr>\n",
       "  </thead>\n",
       "  <tbody>\n",
       "    <tr>\n",
       "      <th>0</th>\n",
       "      <td>As It Was</td>\n",
       "      <td>Harry Styles</td>\n",
       "      <td>1</td>\n",
       "      <td>1</td>\n",
       "      <td>9</td>\n",
       "    </tr>\n",
       "    <tr>\n",
       "      <th>1</th>\n",
       "      <td>First Class</td>\n",
       "      <td>Jack Harlow</td>\n",
       "      <td>2</td>\n",
       "      <td>1</td>\n",
       "      <td>8</td>\n",
       "    </tr>\n",
       "    <tr>\n",
       "      <th>2</th>\n",
       "      <td>Wait For U</td>\n",
       "      <td>Future Featuring Drake &amp; Tems</td>\n",
       "      <td>3</td>\n",
       "      <td>1</td>\n",
       "      <td>5</td>\n",
       "    </tr>\n",
       "    <tr>\n",
       "      <th>3</th>\n",
       "      <td>About Damn Time</td>\n",
       "      <td>Lizzo</td>\n",
       "      <td>5</td>\n",
       "      <td>4</td>\n",
       "      <td>7</td>\n",
       "    </tr>\n",
       "    <tr>\n",
       "      <th>4</th>\n",
       "      <td>Heat Waves</td>\n",
       "      <td>Glass Animals</td>\n",
       "      <td>6</td>\n",
       "      <td>1</td>\n",
       "      <td>72</td>\n",
       "    </tr>\n",
       "  </tbody>\n",
       "</table>\n",
       "</div>"
      ],
      "text/plain": [
       "         Song_Name                    Artist_Name Last_week_rank Peak  \\\n",
       "0        As It Was                   Harry Styles              1    1   \n",
       "1      First Class                    Jack Harlow              2    1   \n",
       "2       Wait For U  Future Featuring Drake & Tems              3    1   \n",
       "3  About Damn Time                          Lizzo              5    4   \n",
       "4       Heat Waves                  Glass Animals              6    1   \n",
       "\n",
       "  Weeks_on_chart  \n",
       "0              9  \n",
       "1              8  \n",
       "2              5  \n",
       "3              7  \n",
       "4             72  "
      ]
     },
     "execution_count": 29,
     "metadata": {},
     "output_type": "execute_result"
    }
   ],
   "source": [
    "df.head()"
   ]
  },
  {
   "cell_type": "markdown",
   "id": "82c80b76",
   "metadata": {},
   "source": [
    "### 7. Scrape the details of Data science recruiters from naukri.com. Url = https://www.naukri.com/. You have to find the following details:\n",
    "A) Name\n",
    "B) Designation\n",
    "C) Company\n",
    "D) Skills they hire for\n",
    "E) Location\n",
    "Note: - From naukri.com homepage click on the recruiters option and the on the search pane type Data science and click on search. All this should be done through code"
   ]
  },
  {
   "cell_type": "code",
   "execution_count": 40,
   "id": "c7163626",
   "metadata": {},
   "outputs": [],
   "source": [
    "driver.get(\"https://www.naukri.com/\")"
   ]
  },
  {
   "cell_type": "code",
   "execution_count": 41,
   "id": "dff5a165",
   "metadata": {},
   "outputs": [],
   "source": [
    "search_bar = driver.find_element_by_xpath('//input[@class=\"suggestor-input \"]')\n",
    "search_bar.send_keys(\"recruiters\")       \n",
    "search_button = driver.find_element_by_xpath('//div[@class=\"qsbSubmit\"]')\n",
    "search_button.click()"
   ]
  },
  {
   "cell_type": "code",
   "execution_count": 42,
   "id": "407e99ee",
   "metadata": {},
   "outputs": [],
   "source": [
    "\n",
    "recruiters=driver.find_element_by_xpath('//*[@id=\"root\"]/div[1]/div/ul[1]/li[2]/a/div')\n",
    "recruiters.click()"
   ]
  },
  {
   "cell_type": "code",
   "execution_count": null,
   "id": "a9d216a2",
   "metadata": {},
   "outputs": [],
   "source": [
    "\n",
    "search_bar = driver.find_element_by_xpath('/html/body/div[2]/div[2]/div[1]/div[1]/form/div[1]/div/div[1]/div[1]/div[2]/input')\n",
    "search_bar.send_keys(\"Data Science\")       \n",
    "search_button = driver.find_element_by_xpath('//button[@class=\"fl qsbSrch blueBtn\"]') \n",
    "search_button.click()"
   ]
  },
  {
   "cell_type": "code",
   "execution_count": 58,
   "id": "756647fd",
   "metadata": {},
   "outputs": [],
   "source": [
    "name=[]\n",
    "try:\n",
    "    names=driver.find_element_by_xpath(\"//div[@class='recInfo']/div/p/a[1]\")\n",
    "    for i in names:\n",
    "        name.append(i.text)\n",
    "except NoSuchElementException:\n",
    "    name.append('No details available')"
   ]
  },
  {
   "cell_type": "code",
   "execution_count": 60,
   "id": "07292ad1",
   "metadata": {},
   "outputs": [],
   "source": [
    "designation=[]\n",
    "try:\n",
    "    designation_list=driver.find_element_by_xpath(\"//div[@class='recInfo']/div/p/span[1]\")\n",
    "    for i in designation_list:\n",
    "        designation.append(i.text)\n",
    "except NoSuchElementException:\n",
    "    designation.append('No details available')\n"
   ]
  },
  {
   "cell_type": "code",
   "execution_count": 61,
   "id": "3d4d3cfc",
   "metadata": {},
   "outputs": [],
   "source": [
    "company=[]\n",
    "try:\n",
    "    companies=driver.find_element_by_xpath(\"//div[@class='recInfo']/div/p/a[2]\")\n",
    "    for i in companies:\n",
    "        company.append(i.text)\n",
    "except NoSuchElementException:\n",
    "    company.append('No details available')\n"
   ]
  },
  {
   "cell_type": "code",
   "execution_count": 62,
   "id": "ef91e9ee",
   "metadata": {},
   "outputs": [],
   "source": [
    "skill=[]\n",
    "try:\n",
    "    skills=driver.find_element_by_xpath(\"//div[@class='recInfo']/div[2]\")\n",
    "    for i in skills:\n",
    "        skill.append(i.text)\n",
    "except NoSuchElementException:\n",
    "    skill.append('No details available')\n"
   ]
  },
  {
   "cell_type": "code",
   "execution_count": null,
   "id": "f823a65d",
   "metadata": {},
   "outputs": [],
   "source": [
    "\n",
    "location=[]\n",
    "soup=BeautifulSoup(driver.page_source,'html.parser')\n",
    "l=soup.find_all('div',attrs={'vcard'})\n",
    "for i in l:\n",
    "    try:\n",
    "        location.append(i.find('small').text)\n",
    "    except AttributeError :\n",
    "        location.append(\"No details available\")\n",
    "df.head()\n"
   ]
  },
  {
   "cell_type": "code",
   "execution_count": null,
   "id": "89292357",
   "metadata": {},
   "outputs": [],
   "source": [
    "df=pd.DataFrame({'Name':name,\n",
    "                'Designation':designation,\n",
    "                'Company':company,\n",
    "                \"Location\":location,\n",
    "                'Skills I hire':skill})"
   ]
  },
  {
   "cell_type": "code",
   "execution_count": null,
   "id": "5929ed61",
   "metadata": {},
   "outputs": [],
   "source": [
    "df.head()"
   ]
  },
  {
   "cell_type": "markdown",
   "id": "805a6417",
   "metadata": {},
   "source": [
    "# 8. Scrape the details of Highest selling novels.Url = https://www.theguardian.com/news/datablog/2012/aug/09/best-selling-books-all-time-fifty-shades-grey- compare/\n",
    "You have to find the following details:\n",
    "A) Book name\n",
    "B) Author name\n",
    "C) Volumes sold\n",
    "D) Publisher\n",
    "E) Genre"
   ]
  },
  {
   "cell_type": "code",
   "execution_count": 33,
   "id": "0288a23b",
   "metadata": {},
   "outputs": [],
   "source": [
    "url=\"https://www.theguardian.com/news/datablog/2012/aug/09/best-selling-books-all-time-fifty-shades-grey-compare\"\n",
    "driver.get(url)\n"
   ]
  },
  {
   "cell_type": "code",
   "execution_count": 34,
   "id": "cf2e46f7",
   "metadata": {},
   "outputs": [
    {
     "name": "stdout",
     "output_type": "stream",
     "text": [
      "100\n"
     ]
    }
   ],
   "source": [
    "book_name=[]\n",
    "try:\n",
    "    names=driver.find_elements_by_xpath(\"//table[@class='in-article sortable']/tbody/tr/td[2]\")\n",
    "    for i in names:\n",
    "        book_name.append(i.text)\n",
    "except NoSuchElementException:\n",
    "    book_name.append('No details available')\n",
    "print(len(book_name))"
   ]
  },
  {
   "cell_type": "code",
   "execution_count": 35,
   "id": "ce23ef00",
   "metadata": {},
   "outputs": [
    {
     "name": "stdout",
     "output_type": "stream",
     "text": [
      "100\n"
     ]
    }
   ],
   "source": [
    "author_name=[]\n",
    "try:\n",
    "    names=driver.find_elements_by_xpath(\"//table[@class='in-article sortable']/tbody/tr/td[3]\")\n",
    "    for i in names:\n",
    "        author_name.append(i.text)\n",
    "except NoSuchElementException:\n",
    "    author_name.append('No details available')\n",
    "\n",
    "print(len(author_name))"
   ]
  },
  {
   "cell_type": "code",
   "execution_count": 36,
   "id": "efb7190c",
   "metadata": {},
   "outputs": [
    {
     "name": "stdout",
     "output_type": "stream",
     "text": [
      "100\n"
     ]
    }
   ],
   "source": [
    "sale=[]\n",
    "try:\n",
    "    names=driver.find_elements_by_xpath(\"//table[@class='in-article sortable']/tbody/tr/td[4]\")\n",
    "    for i in names:\n",
    "        sale.append(i.text)\n",
    "except NoSuchElementException:\n",
    "    sale.append('No details available')\n",
    "\n",
    "print(len(sale))"
   ]
  },
  {
   "cell_type": "code",
   "execution_count": 37,
   "id": "77d4e7cb",
   "metadata": {},
   "outputs": [
    {
     "name": "stdout",
     "output_type": "stream",
     "text": [
      "100\n"
     ]
    }
   ],
   "source": [
    "publisher=[]\n",
    "try:\n",
    "    publishers=driver.find_elements_by_xpath(\"//table[@class='in-article sortable']/tbody/tr/td[5]\")\n",
    "    for i in publishers:\n",
    "        publisher.append(i.text)\n",
    "except NoSuchElementException:\n",
    "    publisher.append('No details available')\n",
    "\n",
    "print(len(publisher))"
   ]
  },
  {
   "cell_type": "code",
   "execution_count": 38,
   "id": "27aadcbb",
   "metadata": {},
   "outputs": [
    {
     "name": "stdout",
     "output_type": "stream",
     "text": [
      "100\n"
     ]
    }
   ],
   "source": [
    "genre=[]\n",
    "try:\n",
    "    genres=driver.find_elements_by_xpath(\"//table[@class='in-article sortable']/tbody/tr/td[6]\")\n",
    "    for i in genres:\n",
    "        genre.append(i.text)\n",
    "except NoSuchElementException:#handling no such element exception\n",
    "    genre.append('No details available')\n",
    "\n",
    "print(len(genre))"
   ]
  },
  {
   "cell_type": "code",
   "execution_count": 39,
   "id": "5e65b357",
   "metadata": {},
   "outputs": [],
   "source": [
    "df=pd.DataFrame({\"Book_name\":book_name,\n",
    "                \"Author_name\":author_name,\n",
    "                'Volume sold':sale,\n",
    "                'Publisher':publisher,\n",
    "                'Genre':genre})"
   ]
  },
  {
   "cell_type": "code",
   "execution_count": 40,
   "id": "b68936a9",
   "metadata": {},
   "outputs": [
    {
     "data": {
      "text/html": [
       "<div>\n",
       "<style scoped>\n",
       "    .dataframe tbody tr th:only-of-type {\n",
       "        vertical-align: middle;\n",
       "    }\n",
       "\n",
       "    .dataframe tbody tr th {\n",
       "        vertical-align: top;\n",
       "    }\n",
       "\n",
       "    .dataframe thead th {\n",
       "        text-align: right;\n",
       "    }\n",
       "</style>\n",
       "<table border=\"1\" class=\"dataframe\">\n",
       "  <thead>\n",
       "    <tr style=\"text-align: right;\">\n",
       "      <th></th>\n",
       "      <th>Book_name</th>\n",
       "      <th>Author_name</th>\n",
       "      <th>Volume sold</th>\n",
       "      <th>Publisher</th>\n",
       "      <th>Genre</th>\n",
       "    </tr>\n",
       "  </thead>\n",
       "  <tbody>\n",
       "    <tr>\n",
       "      <th>0</th>\n",
       "      <td>Da Vinci Code,The</td>\n",
       "      <td>Brown, Dan</td>\n",
       "      <td>5,094,805</td>\n",
       "      <td>Transworld</td>\n",
       "      <td>Crime, Thriller &amp; Adventure</td>\n",
       "    </tr>\n",
       "    <tr>\n",
       "      <th>1</th>\n",
       "      <td>Harry Potter and the Deathly Hallows</td>\n",
       "      <td>Rowling, J.K.</td>\n",
       "      <td>4,475,152</td>\n",
       "      <td>Bloomsbury</td>\n",
       "      <td>Children's Fiction</td>\n",
       "    </tr>\n",
       "    <tr>\n",
       "      <th>2</th>\n",
       "      <td>Harry Potter and the Philosopher's Stone</td>\n",
       "      <td>Rowling, J.K.</td>\n",
       "      <td>4,200,654</td>\n",
       "      <td>Bloomsbury</td>\n",
       "      <td>Children's Fiction</td>\n",
       "    </tr>\n",
       "    <tr>\n",
       "      <th>3</th>\n",
       "      <td>Harry Potter and the Order of the Phoenix</td>\n",
       "      <td>Rowling, J.K.</td>\n",
       "      <td>4,179,479</td>\n",
       "      <td>Bloomsbury</td>\n",
       "      <td>Children's Fiction</td>\n",
       "    </tr>\n",
       "    <tr>\n",
       "      <th>4</th>\n",
       "      <td>Fifty Shades of Grey</td>\n",
       "      <td>James, E. L.</td>\n",
       "      <td>3,758,936</td>\n",
       "      <td>Random House</td>\n",
       "      <td>Romance &amp; Sagas</td>\n",
       "    </tr>\n",
       "  </tbody>\n",
       "</table>\n",
       "</div>"
      ],
      "text/plain": [
       "                                   Book_name    Author_name Volume sold  \\\n",
       "0                          Da Vinci Code,The     Brown, Dan   5,094,805   \n",
       "1       Harry Potter and the Deathly Hallows  Rowling, J.K.   4,475,152   \n",
       "2   Harry Potter and the Philosopher's Stone  Rowling, J.K.   4,200,654   \n",
       "3  Harry Potter and the Order of the Phoenix  Rowling, J.K.   4,179,479   \n",
       "4                       Fifty Shades of Grey   James, E. L.   3,758,936   \n",
       "\n",
       "      Publisher                        Genre  \n",
       "0    Transworld  Crime, Thriller & Adventure  \n",
       "1    Bloomsbury           Children's Fiction  \n",
       "2    Bloomsbury           Children's Fiction  \n",
       "3    Bloomsbury           Children's Fiction  \n",
       "4  Random House              Romance & Sagas  "
      ]
     },
     "execution_count": 40,
     "metadata": {},
     "output_type": "execute_result"
    }
   ],
   "source": [
    "df.head()"
   ]
  },
  {
   "cell_type": "markdown",
   "id": "637ecb95",
   "metadata": {},
   "source": [
    "# 9. Scrape the details most watched tv series of all time from imdb.com. Url = https://www.imdb.com/list/ls095964455/\n",
    "You have to find the following details:\n",
    "A) Name\n",
    "B) Year span\n",
    "C) Genre\n",
    "D) Run time\n",
    "E) Ratings\n",
    "F) Votes"
   ]
  },
  {
   "cell_type": "code",
   "execution_count": 41,
   "id": "a0891d83",
   "metadata": {},
   "outputs": [],
   "source": [
    "url=\"https://www.imdb.com/list/ls095964455/\"\n",
    "driver.get(url)"
   ]
  },
  {
   "cell_type": "code",
   "execution_count": 42,
   "id": "e03ffa0b",
   "metadata": {},
   "outputs": [
    {
     "name": "stdout",
     "output_type": "stream",
     "text": [
      "100\n"
     ]
    }
   ],
   "source": [
    "name=[]\n",
    "try:\n",
    "    names=driver.find_elements_by_xpath(\"//h3[@class='lister-item-header']/a\")\n",
    "    for i in names:\n",
    "        name.append(i.text)\n",
    "except NosuchElementException:#handling no such element exception\n",
    "    name.append('No details available')\n",
    "print(len(name))"
   ]
  },
  {
   "cell_type": "code",
   "execution_count": 43,
   "id": "84971f1c",
   "metadata": {},
   "outputs": [
    {
     "name": "stdout",
     "output_type": "stream",
     "text": [
      "100\n"
     ]
    }
   ],
   "source": [
    "years=[]\n",
    "try:\n",
    "    span=driver.find_elements_by_xpath(\"//h3[@class='lister-item-header']/span[2]\")\n",
    "    for i in span:\n",
    "        years.append(i.text)\n",
    "except NosuchElementException:#handling no such element exception\n",
    "    years.append('No details available')\n",
    "print(len(years))"
   ]
  },
  {
   "cell_type": "code",
   "execution_count": 44,
   "id": "c46e0fb8",
   "metadata": {},
   "outputs": [
    {
     "name": "stdout",
     "output_type": "stream",
     "text": [
      "100\n"
     ]
    }
   ],
   "source": [
    "genre=[]\n",
    "try:\n",
    "    genres=driver.find_elements_by_xpath(\"//span[@class='genre']\")\n",
    "    for i in genres:\n",
    "        genre.append(i.text)\n",
    "except NoSuchElementException:\n",
    "    genre.append('No details available')\n",
    "print(len(genre))"
   ]
  },
  {
   "cell_type": "code",
   "execution_count": 45,
   "id": "9e053ead",
   "metadata": {},
   "outputs": [
    {
     "name": "stdout",
     "output_type": "stream",
     "text": [
      "100\n"
     ]
    }
   ],
   "source": [
    "run_time=[]\n",
    "try:\n",
    "    info=driver.find_elements_by_xpath(\"//span[@class='runtime']\")\n",
    "    for i in info:\n",
    "        run_time.append(i.text)\n",
    "except NoSuchElementException:\n",
    "    run_time.append('No details available')\n",
    "print(len(run_time))"
   ]
  },
  {
   "cell_type": "code",
   "execution_count": 46,
   "id": "ce00dbb6",
   "metadata": {},
   "outputs": [
    {
     "name": "stdout",
     "output_type": "stream",
     "text": [
      "100\n"
     ]
    }
   ],
   "source": [
    "rating=[]\n",
    "try:\n",
    "    info=driver.find_elements_by_xpath(\"//div[@class='ipl-rating-star small']/span[2]\")\n",
    "    for i in info:\n",
    "        rating.append(i.text)\n",
    "except NoSuchElementException:\n",
    "    rating.append('No details available')\n",
    "print(len(rating))"
   ]
  },
  {
   "cell_type": "code",
   "execution_count": 47,
   "id": "cf217836",
   "metadata": {},
   "outputs": [
    {
     "name": "stdout",
     "output_type": "stream",
     "text": [
      "100\n"
     ]
    }
   ],
   "source": [
    "votes=[]\n",
    "try:\n",
    "    info=driver.find_elements_by_xpath(\"//span[@name='nv']\")\n",
    "    for i in info:\n",
    "        votes.append(i.text)\n",
    "except NoSuchElementException:\n",
    "    votes.append('No details available')\n",
    "print(len(votes))"
   ]
  },
  {
   "cell_type": "code",
   "execution_count": 48,
   "id": "4af1893b",
   "metadata": {},
   "outputs": [],
   "source": [
    "df=pd.DataFrame({\"Name\":name,\n",
    "                \"years\":years,\n",
    "                \"Genre\":genre,\n",
    "                \"Run_time\":run_time,\n",
    "                \"Rating\":rating,\n",
    "                \"Votes\":votes})"
   ]
  },
  {
   "cell_type": "code",
   "execution_count": 49,
   "id": "2f3f19b4",
   "metadata": {},
   "outputs": [
    {
     "data": {
      "text/html": [
       "<div>\n",
       "<style scoped>\n",
       "    .dataframe tbody tr th:only-of-type {\n",
       "        vertical-align: middle;\n",
       "    }\n",
       "\n",
       "    .dataframe tbody tr th {\n",
       "        vertical-align: top;\n",
       "    }\n",
       "\n",
       "    .dataframe thead th {\n",
       "        text-align: right;\n",
       "    }\n",
       "</style>\n",
       "<table border=\"1\" class=\"dataframe\">\n",
       "  <thead>\n",
       "    <tr style=\"text-align: right;\">\n",
       "      <th></th>\n",
       "      <th>Name</th>\n",
       "      <th>years</th>\n",
       "      <th>Genre</th>\n",
       "      <th>Run_time</th>\n",
       "      <th>Rating</th>\n",
       "      <th>Votes</th>\n",
       "    </tr>\n",
       "  </thead>\n",
       "  <tbody>\n",
       "    <tr>\n",
       "      <th>0</th>\n",
       "      <td>Game of Thrones</td>\n",
       "      <td>(2011–2019)</td>\n",
       "      <td>Action, Adventure, Drama</td>\n",
       "      <td>57 min</td>\n",
       "      <td>9.2</td>\n",
       "      <td>1,993,279</td>\n",
       "    </tr>\n",
       "    <tr>\n",
       "      <th>1</th>\n",
       "      <td>Stranger Things</td>\n",
       "      <td>(2016– )</td>\n",
       "      <td>Drama, Fantasy, Horror</td>\n",
       "      <td>51 min</td>\n",
       "      <td>8.7</td>\n",
       "      <td>1,028,065</td>\n",
       "    </tr>\n",
       "    <tr>\n",
       "      <th>2</th>\n",
       "      <td>The Walking Dead</td>\n",
       "      <td>(2010–2022)</td>\n",
       "      <td>Drama, Horror, Thriller</td>\n",
       "      <td>44 min</td>\n",
       "      <td>8.2</td>\n",
       "      <td>948,942</td>\n",
       "    </tr>\n",
       "    <tr>\n",
       "      <th>3</th>\n",
       "      <td>13 Reasons Why</td>\n",
       "      <td>(2017–2020)</td>\n",
       "      <td>Drama, Mystery, Thriller</td>\n",
       "      <td>60 min</td>\n",
       "      <td>7.5</td>\n",
       "      <td>283,531</td>\n",
       "    </tr>\n",
       "    <tr>\n",
       "      <th>4</th>\n",
       "      <td>The 100</td>\n",
       "      <td>(2014–2020)</td>\n",
       "      <td>Drama, Mystery, Sci-Fi</td>\n",
       "      <td>43 min</td>\n",
       "      <td>7.6</td>\n",
       "      <td>243,312</td>\n",
       "    </tr>\n",
       "  </tbody>\n",
       "</table>\n",
       "</div>"
      ],
      "text/plain": [
       "               Name        years                     Genre Run_time Rating  \\\n",
       "0   Game of Thrones  (2011–2019)  Action, Adventure, Drama   57 min    9.2   \n",
       "1   Stranger Things     (2016– )    Drama, Fantasy, Horror   51 min    8.7   \n",
       "2  The Walking Dead  (2010–2022)   Drama, Horror, Thriller   44 min    8.2   \n",
       "3    13 Reasons Why  (2017–2020)  Drama, Mystery, Thriller   60 min    7.5   \n",
       "4           The 100  (2014–2020)    Drama, Mystery, Sci-Fi   43 min    7.6   \n",
       "\n",
       "       Votes  \n",
       "0  1,993,279  \n",
       "1  1,028,065  \n",
       "2    948,942  \n",
       "3    283,531  \n",
       "4    243,312  "
      ]
     },
     "execution_count": 49,
     "metadata": {},
     "output_type": "execute_result"
    }
   ],
   "source": [
    "df.head()"
   ]
  },
  {
   "cell_type": "markdown",
   "id": "45b6eeae",
   "metadata": {},
   "source": [
    "# 10. Details of Datasets from UCI machine learning repositories. Url = https://archive.ics.uci.edu/\n",
    "You have to find the following details:\n",
    "A) Dataset name\n",
    "B) Data type\n",
    "C) Task\n",
    "D) Attribute type\n",
    "E) No of instances\n",
    "F) No of attribute\n",
    "G) Year\n",
    "Note: - from the home page you have to go to the ShowAllDataset page through code."
   ]
  },
  {
   "cell_type": "code",
   "execution_count": 50,
   "id": "7b8440ed",
   "metadata": {},
   "outputs": [],
   "source": [
    "url=\"https://archive.ics.uci.edu/\"\n",
    "driver.get(url)"
   ]
  },
  {
   "cell_type": "code",
   "execution_count": 51,
   "id": "2dd98a30",
   "metadata": {},
   "outputs": [],
   "source": [
    "show=driver.find_element_by_xpath(\"//a[@href='datasets.php']\")\n",
    "show.click()"
   ]
  },
  {
   "cell_type": "code",
   "execution_count": 52,
   "id": "28fc2b8b",
   "metadata": {},
   "outputs": [
    {
     "name": "stdout",
     "output_type": "stream",
     "text": [
      "622\n"
     ]
    }
   ],
   "source": [
    "name=[]\n",
    "try:\n",
    "    names=driver.find_elements_by_xpath(\"/html/body/table[2]/tbody/tr/td[2]/table[2]/tbody/tr/td[1]/table/tbody/tr/td[2]/p/b/a\")\n",
    "    for i in names:\n",
    "        name.append(i.text)\n",
    "except NoSuchElementException:\n",
    "    name.append('No details available')\n",
    "print(len(name))"
   ]
  },
  {
   "cell_type": "code",
   "execution_count": 53,
   "id": "afc4c220",
   "metadata": {},
   "outputs": [
    {
     "name": "stdout",
     "output_type": "stream",
     "text": [
      "622\n"
     ]
    }
   ],
   "source": [
    "data_type=[]\n",
    "try:\n",
    "    info=driver.find_elements_by_xpath(\"/html/body/table[2]/tbody/tr/td[2]/table[2]/tbody/tr/td[2]\")\n",
    "    for i in info[1:]:\n",
    "         data_type.append(i.text)\n",
    "except NoSuchElementException:\n",
    "    data_type.append(\"No information\")\n",
    "print(len(data_type))"
   ]
  },
  {
   "cell_type": "code",
   "execution_count": 54,
   "id": "f8e6c886",
   "metadata": {},
   "outputs": [
    {
     "name": "stdout",
     "output_type": "stream",
     "text": [
      "622\n"
     ]
    }
   ],
   "source": [
    "default_task=[]\n",
    "try:\n",
    "    info=driver.find_elements_by_xpath(\"/html/body/table[2]/tbody/tr/td[2]/table[2]/tbody/tr/td[3]\")\n",
    "    for i in info[1:]:\n",
    "         default_task.append(i.text)\n",
    "except NoSuchElementException:\n",
    "    default_task.append(\"No information\")\n",
    "print(len(default_task))"
   ]
  },
  {
   "cell_type": "code",
   "execution_count": 55,
   "id": "da351804",
   "metadata": {},
   "outputs": [
    {
     "name": "stdout",
     "output_type": "stream",
     "text": [
      "622\n"
     ]
    }
   ],
   "source": [
    "attr_type=[]\n",
    "try:\n",
    "    info=driver.find_elements_by_xpath(\"/html/body/table[2]/tbody/tr/td[2]/table[2]/tbody/tr/td[4]\")\n",
    "    for i in info[1:]:\n",
    "         attr_type.append(i.text)\n",
    "except NoSuchElementException:\n",
    "    attr_type.append(\"No information\")\n",
    "print(len(attr_type))"
   ]
  },
  {
   "cell_type": "code",
   "execution_count": 56,
   "id": "af80e0bf",
   "metadata": {},
   "outputs": [
    {
     "name": "stdout",
     "output_type": "stream",
     "text": [
      "622\n"
     ]
    }
   ],
   "source": [
    "no_of_instances=[]\n",
    "try:\n",
    "    info=driver.find_elements_by_xpath(\"/html/body/table[2]/tbody/tr/td[2]/table[2]/tbody/tr/td[5]\")\n",
    "    for i in info[1:]:\n",
    "         no_of_instances.append(i.text)\n",
    "except NoSuchElementException:\n",
    "    no_of_instances.append(\"No information\")\n",
    "print(len(no_of_instances))"
   ]
  },
  {
   "cell_type": "code",
   "execution_count": 57,
   "id": "5f283d12",
   "metadata": {},
   "outputs": [
    {
     "name": "stdout",
     "output_type": "stream",
     "text": [
      "622\n"
     ]
    }
   ],
   "source": [
    "no_of_attributes=[]\n",
    "try:\n",
    "    info=driver.find_elements_by_xpath(\"/html/body/table[2]/tbody/tr/td[2]/table[2]/tbody/tr/td[6]\")\n",
    "    for i in info[1:]:\n",
    "         no_of_attributes.append(i.text)\n",
    "except NoSuchElementException:\n",
    "    no_of_attributes.append(\"No information\")\n",
    "print(len(no_of_attributes))"
   ]
  },
  {
   "cell_type": "code",
   "execution_count": 58,
   "id": "94e1a5f8",
   "metadata": {},
   "outputs": [
    {
     "name": "stdout",
     "output_type": "stream",
     "text": [
      "622\n"
     ]
    }
   ],
   "source": [
    "year=[]\n",
    "try:\n",
    "    info=driver.find_elements_by_xpath(\"/html/body/table[2]/tbody/tr/td[2]/table[2]/tbody/tr/td[7]\")\n",
    "    for i in info[1:]:\n",
    "         year.append(i.text)\n",
    "except NoSuchElementException:\n",
    "    year.append(\"No information\")\n",
    "print(len(year))"
   ]
  },
  {
   "cell_type": "code",
   "execution_count": 59,
   "id": "54d5451e",
   "metadata": {},
   "outputs": [],
   "source": [
    "df=pd.DataFrame({'Name':name,\n",
    "                'Data_type':data_type,\n",
    "                'Task':default_task,\n",
    "                'Attribute_type':attr_type,\n",
    "                'No_of_instances':no_of_instances,\n",
    "                'No_of_attributes':no_of_attributes,\n",
    "                'Year':year})"
   ]
  },
  {
   "cell_type": "code",
   "execution_count": 60,
   "id": "13509863",
   "metadata": {},
   "outputs": [
    {
     "data": {
      "text/html": [
       "<div>\n",
       "<style scoped>\n",
       "    .dataframe tbody tr th:only-of-type {\n",
       "        vertical-align: middle;\n",
       "    }\n",
       "\n",
       "    .dataframe tbody tr th {\n",
       "        vertical-align: top;\n",
       "    }\n",
       "\n",
       "    .dataframe thead th {\n",
       "        text-align: right;\n",
       "    }\n",
       "</style>\n",
       "<table border=\"1\" class=\"dataframe\">\n",
       "  <thead>\n",
       "    <tr style=\"text-align: right;\">\n",
       "      <th></th>\n",
       "      <th>Name</th>\n",
       "      <th>Data_type</th>\n",
       "      <th>Task</th>\n",
       "      <th>Attribute_type</th>\n",
       "      <th>No_of_instances</th>\n",
       "      <th>No_of_attributes</th>\n",
       "      <th>Year</th>\n",
       "    </tr>\n",
       "  </thead>\n",
       "  <tbody>\n",
       "    <tr>\n",
       "      <th>0</th>\n",
       "      <td>Abalone</td>\n",
       "      <td>Multivariate</td>\n",
       "      <td>Classification</td>\n",
       "      <td>Categorical, Integer, Real</td>\n",
       "      <td>4177</td>\n",
       "      <td>8</td>\n",
       "      <td>1995</td>\n",
       "    </tr>\n",
       "    <tr>\n",
       "      <th>1</th>\n",
       "      <td>Adult</td>\n",
       "      <td>Multivariate</td>\n",
       "      <td>Classification</td>\n",
       "      <td>Categorical, Integer</td>\n",
       "      <td>48842</td>\n",
       "      <td>14</td>\n",
       "      <td>1996</td>\n",
       "    </tr>\n",
       "    <tr>\n",
       "      <th>2</th>\n",
       "      <td>Annealing</td>\n",
       "      <td>Multivariate</td>\n",
       "      <td>Classification</td>\n",
       "      <td>Categorical, Integer, Real</td>\n",
       "      <td>798</td>\n",
       "      <td>38</td>\n",
       "      <td></td>\n",
       "    </tr>\n",
       "    <tr>\n",
       "      <th>3</th>\n",
       "      <td>Anonymous Microsoft Web Data</td>\n",
       "      <td></td>\n",
       "      <td>Recommender-Systems</td>\n",
       "      <td>Categorical</td>\n",
       "      <td>37711</td>\n",
       "      <td>294</td>\n",
       "      <td>1998</td>\n",
       "    </tr>\n",
       "    <tr>\n",
       "      <th>4</th>\n",
       "      <td>Arrhythmia</td>\n",
       "      <td>Multivariate</td>\n",
       "      <td>Classification</td>\n",
       "      <td>Categorical, Integer, Real</td>\n",
       "      <td>452</td>\n",
       "      <td>279</td>\n",
       "      <td>1998</td>\n",
       "    </tr>\n",
       "  </tbody>\n",
       "</table>\n",
       "</div>"
      ],
      "text/plain": [
       "                           Name      Data_type                  Task  \\\n",
       "0                       Abalone  Multivariate        Classification    \n",
       "1                         Adult  Multivariate        Classification    \n",
       "2                     Annealing  Multivariate        Classification    \n",
       "3  Anonymous Microsoft Web Data                 Recommender-Systems    \n",
       "4                    Arrhythmia  Multivariate        Classification    \n",
       "\n",
       "                Attribute_type No_of_instances No_of_attributes   Year  \n",
       "0  Categorical, Integer, Real            4177                8   1995   \n",
       "1        Categorical, Integer           48842               14   1996   \n",
       "2  Categorical, Integer, Real             798               38          \n",
       "3                 Categorical           37711              294   1998   \n",
       "4  Categorical, Integer, Real             452              279   1998   "
      ]
     },
     "execution_count": 60,
     "metadata": {},
     "output_type": "execute_result"
    }
   ],
   "source": [
    "df.head()"
   ]
  },
  {
   "cell_type": "code",
   "execution_count": null,
   "id": "7e0443bc",
   "metadata": {},
   "outputs": [],
   "source": []
  }
 ],
 "metadata": {
  "kernelspec": {
   "display_name": "Python 3",
   "language": "python",
   "name": "python3"
  }
 },
 "nbformat": 4,
 "nbformat_minor": 5
}
